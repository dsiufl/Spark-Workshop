{
 "cells": [
  {
   "cell_type": "code",
   "execution_count": 1,
   "metadata": {
    "collapsed": true
   },
   "outputs": [],
   "source": [
    "from __future__ import print_function\n",
    "import os\n",
    "import sys\n",
    "\n",
    "# Edit this to be the full path to the extracted Spark directory on your computer\n",
    "# Use \"\\\" on Windows, \"/\" on OS 10\n",
    "spark_home = 'C:\\Users\\mcollins\\Desktop\\SparkWorkshop\\spark-2.1.0-bin-hadoop2.7'\n",
    "\n",
    "os.environ['SPARK_HOME'] = spark_home\n",
    "sys.path.insert(0, os.path.join(spark_home, 'python'))\n",
    "sys.path.insert(0, os.path.join(spark_home, 'python', 'lib', 'py4j-0.10.4-src.zip'))"
   ]
  },
  {
   "cell_type": "code",
   "execution_count": 2,
   "metadata": {
    "collapsed": false
   },
   "outputs": [],
   "source": [
    "from pyspark.context import SparkContext\n",
    "from pyspark.sql import SQLContext\n",
    "sc = SparkContext()\n",
    "sqlContext = SQLContext(sc)"
   ]
  },
  {
   "cell_type": "code",
   "execution_count": 3,
   "metadata": {
    "collapsed": false
   },
   "outputs": [
    {
     "data": {
      "text/plain": [
       "100000"
      ]
     },
     "execution_count": 3,
     "metadata": {},
     "output_type": "execute_result"
    }
   ],
   "source": [
    "comments = sqlContext.read.json(\"data/hacker_news_100k.json.gz\")\n",
    "comments.count()"
   ]
  },
  {
   "cell_type": "code",
   "execution_count": 4,
   "metadata": {
    "collapsed": false
   },
   "outputs": [
    {
     "name": "stdout",
     "output_type": "stream",
     "text": [
      "root\n",
      " |-- _highlightResult: struct (nullable = true)\n",
      " |    |-- author: struct (nullable = true)\n",
      " |    |    |-- matchLevel: string (nullable = true)\n",
      " |    |    |-- matchedWords: array (nullable = true)\n",
      " |    |    |    |-- element: string (containsNull = true)\n",
      " |    |    |-- value: string (nullable = true)\n",
      " |    |-- comment_text: struct (nullable = true)\n",
      " |    |    |-- matchLevel: string (nullable = true)\n",
      " |    |    |-- matchedWords: array (nullable = true)\n",
      " |    |    |    |-- element: string (containsNull = true)\n",
      " |    |    |-- value: string (nullable = true)\n",
      " |    |-- story_title: struct (nullable = true)\n",
      " |    |    |-- matchLevel: string (nullable = true)\n",
      " |    |    |-- matchedWords: array (nullable = true)\n",
      " |    |    |    |-- element: string (containsNull = true)\n",
      " |    |    |-- value: string (nullable = true)\n",
      " |    |-- story_url: struct (nullable = true)\n",
      " |    |    |-- matchLevel: string (nullable = true)\n",
      " |    |    |-- matchedWords: array (nullable = true)\n",
      " |    |    |    |-- element: string (containsNull = true)\n",
      " |    |    |-- value: string (nullable = true)\n",
      " |-- _tags: array (nullable = true)\n",
      " |    |-- element: string (containsNull = true)\n",
      " |-- author: string (nullable = true)\n",
      " |-- comment_text: string (nullable = true)\n",
      " |-- created_at: string (nullable = true)\n",
      " |-- created_at_i: long (nullable = true)\n",
      " |-- num_comments: string (nullable = true)\n",
      " |-- objectID: string (nullable = true)\n",
      " |-- parent_id: long (nullable = true)\n",
      " |-- points: long (nullable = true)\n",
      " |-- story_id: long (nullable = true)\n",
      " |-- story_text: string (nullable = true)\n",
      " |-- story_title: string (nullable = true)\n",
      " |-- story_url: string (nullable = true)\n",
      " |-- title: string (nullable = true)\n",
      " |-- url: string (nullable = true)\n",
      "\n"
     ]
    }
   ],
   "source": [
    "comments.printSchema()"
   ]
  },
  {
   "cell_type": "code",
   "execution_count": 5,
   "metadata": {
    "collapsed": false
   },
   "outputs": [
    {
     "name": "stdout",
     "output_type": "stream",
     "text": [
      "+--------------------+--------------------+----------+--------------------+--------------------+------------+------------+--------+---------+------+--------+----------+--------------------+--------------------+-----+----+\n",
      "|    _highlightResult|               _tags|    author|        comment_text|          created_at|created_at_i|num_comments|objectID|parent_id|points|story_id|story_text|         story_title|           story_url|title| url|\n",
      "+--------------------+--------------------+----------+--------------------+--------------------+------------+------------+--------+---------+------+--------+----------+--------------------+--------------------+-----+----+\n",
      "|[[none,WrappedArr...|[comment, author_...|       VMG|Because you don&#...|2014-05-30T08:19:34Z|  1401437974|        null| 7820767|  7820656|     1| 7820350|      null|Mark Zuckerberg a...|http://www.mercur...| null|null|\n",
      "|[[none,WrappedArr...|[comment, author_...|hackerboos|$649 in US<p>$699...|2014-05-30T08:18:47Z|  1401437927|        null| 7820764|  7820517|     1| 7820517|      null|4K for $649: Asus...|http://techreport...| null|null|\n",
      "|[[none,WrappedArr...|[comment, author_...|  unhammer|The one I use mos...|2014-05-30T08:17:54Z|  1401437874|        null| 7820763|  7820701|     1| 7817934|      null|Laverna: Self-hos...|   http://laverna.cc| null|null|\n",
      "+--------------------+--------------------+----------+--------------------+--------------------+------------+------------+--------+---------+------+--------+----------+--------------------+--------------------+-----+----+\n",
      "only showing top 3 rows\n",
      "\n"
     ]
    }
   ],
   "source": [
    "comments.show(3)\n"
   ]
  },
  {
   "cell_type": "code",
   "execution_count": 6,
   "metadata": {
    "collapsed": false
   },
   "outputs": [
    {
     "name": "stdout",
     "output_type": "stream",
     "text": [
      "+--------------------+\n",
      "|        comment_text|\n",
      "+--------------------+\n",
      "|Because you don&#...|\n",
      "|$649 in US<p>$699...|\n",
      "|The one I use mos...|\n",
      "+--------------------+\n",
      "only showing top 3 rows\n",
      "\n"
     ]
    }
   ],
   "source": [
    "comments.select(comments[\"comment_text\"]).show(3)"
   ]
  },
  {
   "cell_type": "markdown",
   "metadata": {},
   "source": [
    "The above line is a good oportunity to look at the documentation:\n",
    "\n",
    "http://spark.apache.org/docs/latest/api/python/pyspark.sql.html\n",
    "\n",
    "show() is in the DataFrame functions. Or search for \"show(n=20\" because the show() function is used in a lot of examples.\n",
    "\n",
    "This is also a good time to introduce the line continuation character \"\\\" which makes reading long commands easier."
   ]
  },
  {
   "cell_type": "code",
   "execution_count": 7,
   "metadata": {
    "collapsed": false
   },
   "outputs": [
    {
     "name": "stdout",
     "output_type": "stream",
     "text": [
      "+----------------------------------------------------------------------------------------------------------------------------------------------------------------------------------------------------------------------------------------------------------------------------------------------------------------------------------------------------------------------------------------------------------+\n",
      "|comment_text                                                                                                                                                                                                                                                                                                                                                                                              |\n",
      "+----------------------------------------------------------------------------------------------------------------------------------------------------------------------------------------------------------------------------------------------------------------------------------------------------------------------------------------------------------------------------------------------------------+\n",
      "|Because you don&#x27;t have to rely on a political apparatus to spend the money wisely.<p>By the way, nobody has to wait for billionaires anywhere, if you want to help out in education, get up and do it.                                                                                                                                                                                               |\n",
      "|$649 in US<p>$699 in Canada<p>$1000 in UK &lt;- What on earth is going on here - even with 20% VAT?                                                                                                                                                                                                                                                                                                       |\n",
      "|The one I use most in addition to Owncloud is <a href=\"http://subsonic.org/\" rel=\"nofollow\">http:&#x2F;&#x2F;subsonic.org&#x2F;</a> – after I ripped my full music collection I no longer felt the need for a Spotify subscription. Subsonic has a really nice Android app, but the only iPhone app I found was quite confusing, so if you&#x27;re using an iPhone you should probably … make a new app :)|\n",
      "+----------------------------------------------------------------------------------------------------------------------------------------------------------------------------------------------------------------------------------------------------------------------------------------------------------------------------------------------------------------------------------------------------------+\n",
      "only showing top 3 rows\n",
      "\n"
     ]
    }
   ],
   "source": [
    "comments\\\n",
    "    .select(comments[\"comment_text\"])\\\n",
    "    .show(3, truncate=False)"
   ]
  },
  {
   "cell_type": "markdown",
   "metadata": {},
   "source": [
    "# Cleaning\n",
    "\n",
    "From the sample comments, we can see that if we are going to look at what words are in the comments, we will need to remove the HTML tags and we will need to convert HTML entities like \"&#x27;\" to their characters like \"'\". There are a number of libraries we could use to do that but we will work with just do a regular expression because Spark is the focus for today."
   ]
  },
  {
   "cell_type": "code",
   "execution_count": 8,
   "metadata": {
    "collapsed": false
   },
   "outputs": [
    {
     "name": "stdout",
     "output_type": "stream",
     "text": [
      "you're a Gator!\n"
     ]
    }
   ],
   "source": [
    "import re\n",
    "expression = re.compile(r'<.*?>')\n",
    "import HTMLParser\n",
    "parser = HTMLParser.HTMLParser()\n",
    "\n",
    "def strip_tags(html):\n",
    "    return parser.unescape(\n",
    "        expression.sub('', html)\n",
    "        )\n",
    "    \n",
    "print(strip_tags(\"<b>you&#x27;re a Gator!</b>\"))"
   ]
  },
  {
   "cell_type": "markdown",
   "metadata": {},
   "source": [
    "That's a nice little function but how do we run it on a column in the dataframe? And where do we store the results? What we want to do is add a column to the dataframe with text that has no HTML in it. This is called applying a user defined function to your data."
   ]
  },
  {
   "cell_type": "code",
   "execution_count": 9,
   "metadata": {
    "collapsed": false
   },
   "outputs": [
    {
     "ename": "TypeError",
     "evalue": "expected string or buffer",
     "output_type": "error",
     "traceback": [
      "\u001b[0;31m---------------------------------------------------------------------------\u001b[0m",
      "\u001b[0;31mTypeError\u001b[0m                                 Traceback (most recent call last)",
      "\u001b[0;32m<ipython-input-9-f40c043582f1>\u001b[0m in \u001b[0;36m<module>\u001b[0;34m()\u001b[0m\n\u001b[1;32m      1\u001b[0m comments_clean = comments.withColumn(\"comment_clean\", \n\u001b[0;32m----> 2\u001b[0;31m                                      \u001b[0mstrip_tags\u001b[0m\u001b[1;33m(\u001b[0m\u001b[0mcomments\u001b[0m\u001b[1;33m[\u001b[0m\u001b[1;34m\"comment_text\"\u001b[0m\u001b[1;33m]\u001b[0m\u001b[1;33m)\u001b[0m\u001b[1;33m\u001b[0m\u001b[0m\n\u001b[0m\u001b[1;32m      3\u001b[0m                                     )\n",
      "\u001b[0;32m<ipython-input-8-fbabac98afc3>\u001b[0m in \u001b[0;36mstrip_tags\u001b[0;34m(html)\u001b[0m\n\u001b[1;32m      6\u001b[0m \u001b[1;32mdef\u001b[0m \u001b[0mstrip_tags\u001b[0m\u001b[1;33m(\u001b[0m\u001b[0mhtml\u001b[0m\u001b[1;33m)\u001b[0m\u001b[1;33m:\u001b[0m\u001b[1;33m\u001b[0m\u001b[0m\n\u001b[1;32m      7\u001b[0m     return parser.unescape(\n\u001b[0;32m----> 8\u001b[0;31m         \u001b[0mexpression\u001b[0m\u001b[1;33m.\u001b[0m\u001b[0msub\u001b[0m\u001b[1;33m(\u001b[0m\u001b[1;34m''\u001b[0m\u001b[1;33m,\u001b[0m \u001b[0mhtml\u001b[0m\u001b[1;33m)\u001b[0m\u001b[1;33m\u001b[0m\u001b[0m\n\u001b[0m\u001b[1;32m      9\u001b[0m         )\n\u001b[1;32m     10\u001b[0m \u001b[1;33m\u001b[0m\u001b[0m\n",
      "\u001b[0;31mTypeError\u001b[0m: expected string or buffer"
     ]
    }
   ],
   "source": [
    "comments_clean = comments.withColumn(\"comment_clean\", \n",
    "                                     strip_tags(comments[\"comment_text\"])\n",
    "                                    )"
   ]
  },
  {
   "cell_type": "markdown",
   "metadata": {},
   "source": [
    "Whoops! That didn't work. We wrote a Python function that takes a string and passed it a Spark dataframe column. What we want is to get Spark to do is to run that function for every value in the column with means we have to change our function to something Spark knows how to handle. Fortunately, there's a function to do just that. Notice that the argument to udf() is a function and the return is a function. In Python, functins are first class objects, they're a thing that can be manuipulated, calculated, returned, etc. like other data types."
   ]
  },
  {
   "cell_type": "code",
   "execution_count": 10,
   "metadata": {
    "collapsed": true
   },
   "outputs": [],
   "source": [
    "from pyspark.sql.functions import udf\n",
    "\n",
    "strip_tags_udf = udf(strip_tags)\n",
    "\n",
    "comments_clean = comments.withColumn(\"comment_clean\", \n",
    "                                     strip_tags_udf(comments[\"comment_text\"])\n",
    "                                    )"
   ]
  },
  {
   "cell_type": "code",
   "execution_count": 11,
   "metadata": {
    "collapsed": false
   },
   "outputs": [
    {
     "name": "stdout",
     "output_type": "stream",
     "text": [
      "+------------------------------------------------------------------------------------------------------------------------------------------------------------------------------------------------------------------------------------------------------------------------------------------------------------------------------------+\n",
      "|comment_clean                                                                                                                                                                                                                                                                                                                       |\n",
      "+------------------------------------------------------------------------------------------------------------------------------------------------------------------------------------------------------------------------------------------------------------------------------------------------------------------------------------+\n",
      "|Because you don't have to rely on a political apparatus to spend the money wisely.By the way, nobody has to wait for billionaires anywhere, if you want to help out in education, get up and do it.                                                                                                                                 |\n",
      "|$649 in US$699 in Canada$1000 in UK <- What on earth is going on here - even with 20% VAT?                                                                                                                                                                                                                                          |\n",
      "|The one I use most in addition to Owncloud is http://subsonic.org/ – after I ripped my full music collection I no longer felt the need for a Spotify subscription. Subsonic has a really nice Android app, but the only iPhone app I found was quite confusing, so if you're using an iPhone you should probably … make a new app :)|\n",
      "+------------------------------------------------------------------------------------------------------------------------------------------------------------------------------------------------------------------------------------------------------------------------------------------------------------------------------------+\n",
      "only showing top 3 rows\n",
      "\n"
     ]
    }
   ],
   "source": [
    "comments_clean\\\n",
    "    .select(comments_clean[\"comment_clean\"])\\\n",
    "    .show(3, truncate=False)"
   ]
  },
  {
   "cell_type": "markdown",
   "metadata": {},
   "source": [
    "# Tokenizing\n",
    "\n",
    "Today we're going to do some very simple NLP. We'll consider the comments to just be a collection of words. We'll use those words to figure out which posts are most relavent to a search term that we're interested in.\n",
    "\n",
    "First up is splitting the comments up in to lists of words. At this point we'll introduce the machine learning API:\n",
    "\n",
    "(Mention ml for dataframes vs older mllib for RRDs)\n",
    "\n",
    "http://spark.apache.org/docs/latest/api/python/pyspark.ml.html\n"
   ]
  },
  {
   "cell_type": "code",
   "execution_count": 12,
   "metadata": {
    "collapsed": true
   },
   "outputs": [],
   "source": [
    "from pyspark.ml.feature import Tokenizer\n",
    "tokenizer = Tokenizer(inputCol=\"comment_clean\", outputCol=\"words\")\n",
    "\n",
    "comments_words = tokenizer.transform(comments_clean)"
   ]
  },
  {
   "cell_type": "code",
   "execution_count": 13,
   "metadata": {
    "collapsed": false
   },
   "outputs": [
    {
     "name": "stdout",
     "output_type": "stream",
     "text": [
      "+--------------------------------------------------------------------------------------------------------------------------------------------------------------------------------------------------------------------------------------------------------------------------------------------------------------------------------------------------------------------------------------------------+\n",
      "|words                                                                                                                                                                                                                                                                                                                                                                                             |\n",
      "+--------------------------------------------------------------------------------------------------------------------------------------------------------------------------------------------------------------------------------------------------------------------------------------------------------------------------------------------------------------------------------------------------+\n",
      "|[because, you, don't, have, to, rely, on, a, political, apparatus, to, spend, the, money, wisely.by, the, way,, nobody, has, to, wait, for, billionaires, anywhere,, if, you, want, to, help, out, in, education,, get, up, and, do, it.]                                                                                                                                                         |\n",
      "|[$649, in, us$699, in, canada$1000, in, uk, <-, what, on, earth, is, going, on, here, -, even, with, 20%, vat?]                                                                                                                                                                                                                                                                                   |\n",
      "|[the, one, i, use, most, in, addition, to, owncloud, is, http://subsonic.org/, –, after, i, ripped, my, full, music, collection, i, no, longer, felt, the, need, for, a, spotify, subscription., subsonic, has, a, really, nice, android, app,, but, the, only, iphone, app, i, found, was, quite, confusing,, so, if, you're, using, an, iphone, you, should, probably, …, make, a, new, app, :)]|\n",
      "+--------------------------------------------------------------------------------------------------------------------------------------------------------------------------------------------------------------------------------------------------------------------------------------------------------------------------------------------------------------------------------------------------+\n",
      "only showing top 3 rows\n",
      "\n"
     ]
    }
   ],
   "source": [
    "comments_words\\\n",
    "    .select(comments_words[\"words\"])\\\n",
    "    .show(3, truncate=False)"
   ]
  },
  {
   "cell_type": "code",
   "execution_count": 14,
   "metadata": {
    "collapsed": true
   },
   "outputs": [],
   "source": [
    "# What are the stop words? http://ir.dcs.gla.ac.uk/resources/linguistic_utils/stop_words\n",
    "\n",
    "from pyspark.ml.feature import StopWordsRemover\n",
    "stopWordsRemover = StopWordsRemover(inputCol=\"words\", outputCol=\"tokens\")\n",
    "\n",
    "comments_tokens = stopWordsRemover.transform(comments_words)"
   ]
  },
  {
   "cell_type": "code",
   "execution_count": 15,
   "metadata": {
    "collapsed": false
   },
   "outputs": [
    {
     "name": "stdout",
     "output_type": "stream",
     "text": [
      "+--------------------------------------------------------------------------------------------------------------------------------------------------------------------------------------------------------------------------------------------------------------------------+\n",
      "|tokens                                                                                                                                                                                                                                                                    |\n",
      "+--------------------------------------------------------------------------------------------------------------------------------------------------------------------------------------------------------------------------------------------------------------------------+\n",
      "|[don't, rely, political, apparatus, spend, money, wisely.by, way,, nobody, wait, billionaires, anywhere,, want, help, education,, get, it.]                                                                                                                               |\n",
      "|[$649, us$699, canada$1000, uk, <-, earth, going, -, even, 20%, vat?]                                                                                                                                                                                                     |\n",
      "|[one, use, addition, owncloud, http://subsonic.org/, –, ripped, full, music, collection, longer, felt, need, spotify, subscription., subsonic, really, nice, android, app,, iphone, app, found, quite, confusing,, you're, using, iphone, probably, …, make, new, app, :)]|\n",
      "+--------------------------------------------------------------------------------------------------------------------------------------------------------------------------------------------------------------------------------------------------------------------------+\n",
      "only showing top 3 rows\n",
      "\n"
     ]
    }
   ],
   "source": [
    "comments_tokens\\\n",
    "    .select(comments_tokens[\"tokens\"])\\\n",
    "    .show(3, truncate=False)"
   ]
  },
  {
   "cell_type": "markdown",
   "metadata": {},
   "source": [
    "# Zipf's Law\n",
    "\n",
    "Zipf's law says that the frequency of a term is inversely proportianal to it's rank ie. the second most common term occurs 1/2 as often as the first; the third most common 1/3 as often; etc. A log-log graph of frequencey vs rank should be a straight line.\n",
    "\n",
    "Let's count our tokens and graph the counts to see what they look like. Here we're going to use a map-reduce pattern of computation which we're going to express in dataframe functions that look like a SQL statement."
   ]
  },
  {
   "cell_type": "code",
   "execution_count": 16,
   "metadata": {
    "collapsed": false
   },
   "outputs": [
    {
     "name": "stdout",
     "output_type": "stream",
     "text": [
      "+------+-----+\n",
      "| token|count|\n",
      "+------+-----+\n",
      "|      |73208|\n",
      "|  it's|23630|\n",
      "| would|21905|\n",
      "|  like|21540|\n",
      "|people|17500|\n",
      "| don't|17306|\n",
      "|   one|14924|\n",
      "| think|13764|\n",
      "|   get|13410|\n",
      "|   use|11724|\n",
      "+------+-----+\n",
      "only showing top 10 rows\n",
      "\n"
     ]
    }
   ],
   "source": [
    "from pyspark.sql.functions import explode\n",
    "\n",
    "tokens = comments_tokens\\\n",
    "    .select(explode(comments_tokens[\"tokens\"]).alias(\"token\"))\\\n",
    "    .groupBy(\"token\")\\\n",
    "    .count()\\\n",
    "    .orderBy(\"count\", ascending=False)\n",
    "    \n",
    "tokens.show(10)"
   ]
  },
  {
   "cell_type": "markdown",
   "metadata": {},
   "source": [
    "Now how do we graph the frequency against term rank (integer sequence from 1..n)? We have a Spark dataframe but that's not something we can use with graphing tools. But, we can convert it to Pandas.\n",
    "\n",
    "We'll convert the absolute minimum information to a Pandas dataframe - storage, transfer time."
   ]
  },
  {
   "cell_type": "code",
   "execution_count": 17,
   "metadata": {
    "collapsed": true
   },
   "outputs": [],
   "source": [
    "tokens_pdf = tokens\\\n",
    "    .select(tokens[\"count\"])\\\n",
    "    .toPandas()"
   ]
  },
  {
   "cell_type": "code",
   "execution_count": 18,
   "metadata": {
    "collapsed": false
   },
   "outputs": [
    {
     "data": {
      "text/plain": [
       "count    335936\n",
       "dtype: int64"
      ]
     },
     "execution_count": 18,
     "metadata": {},
     "output_type": "execute_result"
    }
   ],
   "source": [
    "tokens_pdf.count()"
   ]
  },
  {
   "cell_type": "code",
   "execution_count": 19,
   "metadata": {
    "collapsed": false
   },
   "outputs": [
    {
     "data": {
      "text/html": [
       "<div>\n",
       "<table border=\"1\" class=\"dataframe\">\n",
       "  <thead>\n",
       "    <tr style=\"text-align: right;\">\n",
       "      <th></th>\n",
       "      <th>count</th>\n",
       "      <th>rank</th>\n",
       "      <th>log_rank</th>\n",
       "      <th>log_count</th>\n",
       "    </tr>\n",
       "  </thead>\n",
       "  <tbody>\n",
       "    <tr>\n",
       "      <th>0</th>\n",
       "      <td>73208</td>\n",
       "      <td>1</td>\n",
       "      <td>0.000000</td>\n",
       "      <td>11.201060</td>\n",
       "    </tr>\n",
       "    <tr>\n",
       "      <th>1</th>\n",
       "      <td>23630</td>\n",
       "      <td>2</td>\n",
       "      <td>0.693147</td>\n",
       "      <td>10.070272</td>\n",
       "    </tr>\n",
       "    <tr>\n",
       "      <th>2</th>\n",
       "      <td>21905</td>\n",
       "      <td>3</td>\n",
       "      <td>1.098612</td>\n",
       "      <td>9.994470</td>\n",
       "    </tr>\n",
       "    <tr>\n",
       "      <th>3</th>\n",
       "      <td>21540</td>\n",
       "      <td>4</td>\n",
       "      <td>1.386294</td>\n",
       "      <td>9.977667</td>\n",
       "    </tr>\n",
       "    <tr>\n",
       "      <th>4</th>\n",
       "      <td>17500</td>\n",
       "      <td>5</td>\n",
       "      <td>1.609438</td>\n",
       "      <td>9.769956</td>\n",
       "    </tr>\n",
       "  </tbody>\n",
       "</table>\n",
       "</div>"
      ],
      "text/plain": [
       "   count  rank  log_rank  log_count\n",
       "0  73208     1  0.000000  11.201060\n",
       "1  23630     2  0.693147  10.070272\n",
       "2  21905     3  1.098612   9.994470\n",
       "3  21540     4  1.386294   9.977667\n",
       "4  17500     5  1.609438   9.769956"
      ]
     },
     "execution_count": 19,
     "metadata": {},
     "output_type": "execute_result"
    }
   ],
   "source": [
    "import numpy as np\n",
    "tokens_pdf[\"rank\"] = range(1, tokens_pdf.shape[0] + 1)\n",
    "tokens_pdf[\"log_rank\"] = np.log(tokens_pdf[\"rank\"])\n",
    "tokens_pdf[\"log_count\"] = np.log(tokens_pdf[\"count\"])\n",
    "tokens_pdf.head()"
   ]
  },
  {
   "cell_type": "code",
   "execution_count": 20,
   "metadata": {
    "collapsed": false
   },
   "outputs": [],
   "source": [
    "%matplotlib inline\n",
    "\n",
    "# \"conda install seaborn\" at a command prompt if you don't have it already\n",
    "import seaborn as sns"
   ]
  },
  {
   "cell_type": "code",
   "execution_count": 21,
   "metadata": {
    "collapsed": false
   },
   "outputs": [
    {
     "data": {
      "text/plain": [
       "<seaborn.axisgrid.JointGrid at 0xd5a22b0>"
      ]
     },
     "execution_count": 21,
     "metadata": {},
     "output_type": "execute_result"
    },
    {
     "data": {
      "image/png": "[encoded data removed]",
      "text/plain": [
       "<matplotlib.figure.Figure at 0xd5a2240>"
      ]
     },
     "metadata": {},
     "output_type": "display_data"
    }
   ],
   "source": [
    "sns.jointplot(x=\"log_rank\", y=\"log_count\", data=tokens_pdf)"
   ]
  },
  {
   "cell_type": "markdown",
   "metadata": {},
   "source": [
    "# Word2Vec Synonyms\n",
    "\n",
    "What words are related?\n"
   ]
  },
  {
   "cell_type": "code",
   "execution_count": 22,
   "metadata": {
    "collapsed": true
   },
   "outputs": [],
   "source": [
    "from pyspark.ml.feature import Word2Vec"
   ]
  },
  {
   "cell_type": "code",
   "execution_count": null,
   "metadata": {
    "collapsed": true
   },
   "outputs": [],
   "source": []
  },
  {
   "cell_type": "code",
   "execution_count": 41,
   "metadata": {
    "collapsed": false
   },
   "outputs": [],
   "source": [
    "w2v = Word2Vec(vectorSize=100, \n",
    "               minCount=5, \n",
    "               numPartitions=4,\n",
    "               seed=20,\n",
    "               inputCol=\"tokens\",\n",
    "               outputCol=\"result\")"
   ]
  },
  {
   "cell_type": "code",
   "execution_count": 42,
   "metadata": {
    "collapsed": false
   },
   "outputs": [
    {
     "data": {
      "text/plain": [
       "20"
      ]
     },
     "execution_count": 42,
     "metadata": {},
     "output_type": "execute_result"
    }
   ],
   "source": [
    "w2v.getOrDefault(\"seed\")"
   ]
  },
  {
   "cell_type": "code",
   "execution_count": 43,
   "metadata": {
    "collapsed": false
   },
   "outputs": [],
   "source": [
    "w2v_model = w2v.fit(comments_tokens)\n",
    "w2v_vectors = w2v_model.getVectors()"
   ]
  },
  {
   "cell_type": "code",
   "execution_count": 44,
   "metadata": {
    "collapsed": false
   },
   "outputs": [
    {
     "data": {
      "text/plain": [
       "42229"
      ]
     },
     "execution_count": 44,
     "metadata": {},
     "output_type": "execute_result"
    }
   ],
   "source": [
    "w2v_vectors.count()"
   ]
  },
  {
   "cell_type": "code",
   "execution_count": 45,
   "metadata": {
    "collapsed": false
   },
   "outputs": [
    {
     "data": {
      "text/html": [
       "<div>\n",
       "<table border=\"1\" class=\"dataframe\">\n",
       "  <thead>\n",
       "    <tr style=\"text-align: right;\">\n",
       "      <th></th>\n",
       "      <th>word</th>\n",
       "      <th>similarity</th>\n",
       "    </tr>\n",
       "  </thead>\n",
       "  <tbody>\n",
       "    <tr>\n",
       "      <th>0</th>\n",
       "      <td>science</td>\n",
       "      <td>0.633247</td>\n",
       "    </tr>\n",
       "    <tr>\n",
       "      <th>1</th>\n",
       "      <td>science,</td>\n",
       "      <td>0.605530</td>\n",
       "    </tr>\n",
       "    <tr>\n",
       "      <th>2</th>\n",
       "      <td>science?</td>\n",
       "      <td>0.545220</td>\n",
       "    </tr>\n",
       "    <tr>\n",
       "      <th>3</th>\n",
       "      <td>computers</td>\n",
       "      <td>0.538737</td>\n",
       "    </tr>\n",
       "    <tr>\n",
       "      <th>4</th>\n",
       "      <td>program</td>\n",
       "      <td>0.534226</td>\n",
       "    </tr>\n",
       "    <tr>\n",
       "      <th>5</th>\n",
       "      <td>calculus</td>\n",
       "      <td>0.507490</td>\n",
       "    </tr>\n",
       "    <tr>\n",
       "      <th>6</th>\n",
       "      <td>cede</td>\n",
       "      <td>0.496321</td>\n",
       "    </tr>\n",
       "    <tr>\n",
       "      <th>7</th>\n",
       "      <td>programmer's</td>\n",
       "      <td>0.493715</td>\n",
       "    </tr>\n",
       "    <tr>\n",
       "      <th>8</th>\n",
       "      <td>program,</td>\n",
       "      <td>0.480995</td>\n",
       "    </tr>\n",
       "    <tr>\n",
       "      <th>9</th>\n",
       "      <td>knowledge</td>\n",
       "      <td>0.478143</td>\n",
       "    </tr>\n",
       "  </tbody>\n",
       "</table>\n",
       "</div>"
      ],
      "text/plain": [
       "           word  similarity\n",
       "0       science    0.633247\n",
       "1      science,    0.605530\n",
       "2      science?    0.545220\n",
       "3     computers    0.538737\n",
       "4       program    0.534226\n",
       "5      calculus    0.507490\n",
       "6          cede    0.496321\n",
       "7  programmer's    0.493715\n",
       "8      program,    0.480995\n",
       "9     knowledge    0.478143"
      ]
     },
     "execution_count": 45,
     "metadata": {},
     "output_type": "execute_result"
    }
   ],
   "source": [
    "w2v_model.findSynonyms('computer', 10).toPandas()"
   ]
  },
  {
   "cell_type": "markdown",
   "metadata": {},
   "source": [
    "There's some clean up to be done still. \"science\", \"science,\", \"science?\", and \"science.\" really should all be the same token.\n",
    "\n",
    "But blindly removing punctuation may not be right for your dataset. What would have happened to \".net\", \"node.js\", and \"c#\" when we look for synonyms for \"java\" below? How can you clean up \"c++\" and \"c++,\"?"
   ]
  },
  {
   "cell_type": "code",
   "execution_count": 46,
   "metadata": {
    "collapsed": false
   },
   "outputs": [
    {
     "data": {
      "text/html": [
       "<div>\n",
       "<table border=\"1\" class=\"dataframe\">\n",
       "  <thead>\n",
       "    <tr style=\"text-align: right;\">\n",
       "      <th></th>\n",
       "      <th>word</th>\n",
       "      <th>similarity</th>\n",
       "    </tr>\n",
       "  </thead>\n",
       "  <tbody>\n",
       "    <tr>\n",
       "      <th>0</th>\n",
       "      <td>c++</td>\n",
       "      <td>0.786364</td>\n",
       "    </tr>\n",
       "    <tr>\n",
       "      <th>1</th>\n",
       "      <td>java,</td>\n",
       "      <td>0.731301</td>\n",
       "    </tr>\n",
       "    <tr>\n",
       "      <th>2</th>\n",
       "      <td>compiled</td>\n",
       "      <td>0.730762</td>\n",
       "    </tr>\n",
       "    <tr>\n",
       "      <th>3</th>\n",
       "      <td>jvm</td>\n",
       "      <td>0.718536</td>\n",
       "    </tr>\n",
       "    <tr>\n",
       "      <th>4</th>\n",
       "      <td>c#</td>\n",
       "      <td>0.717830</td>\n",
       "    </tr>\n",
       "    <tr>\n",
       "      <th>5</th>\n",
       "      <td>.net</td>\n",
       "      <td>0.711414</td>\n",
       "    </tr>\n",
       "    <tr>\n",
       "      <th>6</th>\n",
       "      <td>jvm,</td>\n",
       "      <td>0.696147</td>\n",
       "    </tr>\n",
       "    <tr>\n",
       "      <th>7</th>\n",
       "      <td>scala</td>\n",
       "      <td>0.695071</td>\n",
       "    </tr>\n",
       "    <tr>\n",
       "      <th>8</th>\n",
       "      <td>c++.</td>\n",
       "      <td>0.693720</td>\n",
       "    </tr>\n",
       "    <tr>\n",
       "      <th>9</th>\n",
       "      <td>libraries</td>\n",
       "      <td>0.683583</td>\n",
       "    </tr>\n",
       "  </tbody>\n",
       "</table>\n",
       "</div>"
      ],
      "text/plain": [
       "        word  similarity\n",
       "0        c++    0.786364\n",
       "1      java,    0.731301\n",
       "2   compiled    0.730762\n",
       "3        jvm    0.718536\n",
       "4         c#    0.717830\n",
       "5       .net    0.711414\n",
       "6       jvm,    0.696147\n",
       "7      scala    0.695071\n",
       "8       c++.    0.693720\n",
       "9  libraries    0.683583"
      ]
     },
     "execution_count": 46,
     "metadata": {},
     "output_type": "execute_result"
    }
   ],
   "source": [
    "w2v_model.findSynonyms('java', 10).toPandas()"
   ]
  },
  {
   "cell_type": "markdown",
   "metadata": {
    "collapsed": true
   },
   "source": [
    "Hacker News is a site that discusses startups and stories related to technology. Similar to \"java\" above, the synonyms you get back depend on your training data. Sometimes what you get is intuitive but sometimes you get interesting things like \"mouth\"."
   ]
  },
  {
   "cell_type": "code",
   "execution_count": 47,
   "metadata": {
    "collapsed": false
   },
   "outputs": [
    {
     "data": {
      "text/html": [
       "<div>\n",
       "<table border=\"1\" class=\"dataframe\">\n",
       "  <thead>\n",
       "    <tr style=\"text-align: right;\">\n",
       "      <th></th>\n",
       "      <th>word</th>\n",
       "      <th>similarity</th>\n",
       "    </tr>\n",
       "  </thead>\n",
       "  <tbody>\n",
       "    <tr>\n",
       "      <th>0</th>\n",
       "      <td>professor,</td>\n",
       "      <td>0.674254</td>\n",
       "    </tr>\n",
       "    <tr>\n",
       "      <th>1</th>\n",
       "      <td>geologist</td>\n",
       "      <td>0.648628</td>\n",
       "    </tr>\n",
       "    <tr>\n",
       "      <th>2</th>\n",
       "      <td>ta</td>\n",
       "      <td>0.640422</td>\n",
       "    </tr>\n",
       "    <tr>\n",
       "      <th>3</th>\n",
       "      <td>graduated</td>\n",
       "      <td>0.637239</td>\n",
       "    </tr>\n",
       "    <tr>\n",
       "      <th>4</th>\n",
       "      <td>career,</td>\n",
       "      <td>0.630428</td>\n",
       "    </tr>\n",
       "    <tr>\n",
       "      <th>5</th>\n",
       "      <td>interviews</td>\n",
       "      <td>0.624235</td>\n",
       "    </tr>\n",
       "    <tr>\n",
       "      <th>6</th>\n",
       "      <td>zuckerberg</td>\n",
       "      <td>0.622673</td>\n",
       "    </tr>\n",
       "    <tr>\n",
       "      <th>7</th>\n",
       "      <td>visionary</td>\n",
       "      <td>0.621046</td>\n",
       "    </tr>\n",
       "    <tr>\n",
       "      <th>8</th>\n",
       "      <td>harvard</td>\n",
       "      <td>0.616671</td>\n",
       "    </tr>\n",
       "    <tr>\n",
       "      <th>9</th>\n",
       "      <td>son</td>\n",
       "      <td>0.611227</td>\n",
       "    </tr>\n",
       "  </tbody>\n",
       "</table>\n",
       "</div>"
      ],
      "text/plain": [
       "         word  similarity\n",
       "0  professor,    0.674254\n",
       "1   geologist    0.648628\n",
       "2          ta    0.640422\n",
       "3   graduated    0.637239\n",
       "4     career,    0.630428\n",
       "5  interviews    0.624235\n",
       "6  zuckerberg    0.622673\n",
       "7   visionary    0.621046\n",
       "8     harvard    0.616671\n",
       "9         son    0.611227"
      ]
     },
     "execution_count": 47,
     "metadata": {},
     "output_type": "execute_result"
    }
   ],
   "source": [
    "w2v_model.findSynonyms('founder', 10).toPandas()"
   ]
  },
  {
   "cell_type": "markdown",
   "metadata": {},
   "source": [
    "So what comments have \"founder\" and \"mouth\" in them?"
   ]
  },
  {
   "cell_type": "code",
   "execution_count": 48,
   "metadata": {
    "collapsed": false
   },
   "outputs": [
    {
     "name": "stdout",
     "output_type": "stream",
     "text": [
      "+------------+\n",
      "|comment_text|\n",
      "+------------+\n",
      "+------------+\n",
      "\n"
     ]
    }
   ],
   "source": [
    "from pyspark.sql.functions import array_contains\n",
    "\n",
    "comments_tokens\\\n",
    "    .filter(array_contains(comments_tokens[\"tokens\"], \"founder\"))\\\n",
    "    .filter(array_contains(comments_tokens[\"tokens\"], \"mouths\"))\\\n",
    "    .select(comments_tokens[\"comment_text\"])\\\n",
    "    .show(3, truncate=False)"
   ]
  },
  {
   "cell_type": "markdown",
   "metadata": {},
   "source": [
    "There are none! This is an important lesson. Word2vec is not a measure of co-occurence like TF-IDF and other techniques. We've reduced the high-dimension co-occurence space down to only 200 dimensions and things that don't occurr together may project down to a lower space in a similar way ie have a similar vecor."
   ]
  }
 ],
 "metadata": {
  "kernelspec": {
   "display_name": "Python 2",
   "language": "python",
   "name": "python2"
  },
  "language_info": {
   "codemirror_mode": {
    "name": "ipython",
    "version": 2
   },
   "file_extension": ".py",
   "mimetype": "text/x-python",
   "name": "python",
   "nbconvert_exporter": "python",
   "pygments_lexer": "ipython2",
   "version": "2.7.13"
  }
 },
 "nbformat": 4,
 "nbformat_minor": 0
}
