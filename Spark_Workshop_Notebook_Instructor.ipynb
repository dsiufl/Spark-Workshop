{
 "cells": [
  {
   "cell_type": "code",
   "execution_count": 1,
   "metadata": {
    "collapsed": false
   },
   "outputs": [],
   "source": [
    "from __future__ import print_function\n",
    "import os\n",
    "import sys\n",
    "\n",
    "# Edit this to be the full path to the extracted Spark directory on your computer\n",
    "spark_home = 'C:\\Users\\mcollins\\Desktop\\SparkWorkshop\\spark-1.6.1-bin-hadoop2.6'\n",
    "\n",
    "os.environ['SPARK_HOME'] = spark_home\n",
    "sys.path.insert(0, spark_home + \"/python\")\n",
    "sys.path.insert(0, os.path.join(spark_home, 'python\\lib\\py4j-0.9-src.zip'))"
   ]
  },
  {
   "cell_type": "code",
   "execution_count": 2,
   "metadata": {
    "collapsed": false
   },
   "outputs": [
    {
     "name": "stdout",
     "output_type": "stream",
     "text": [
      "Welcome to\n",
      "      ____              __\n",
      "     / __/__  ___ _____/ /__\n",
      "    _\\ \\/ _ \\/ _ `/ __/  '_/\n",
      "   /__ / .__/\\_,_/_/ /_/\\_\\   version 1.6.1\n",
      "      /_/\n",
      "\n",
      "Using Python version 2.7.11 (default, Feb 16 2016 09:58:36)\n",
      "SparkContext available as sc, SQLContext available as sqlContext.\n",
      "<pyspark.context.SparkContext object at 0x0000000004369710>\n"
     ]
    }
   ],
   "source": [
    "# Initialize PySpark to predefine the SparkContext variable 'sc'\n",
    "if 'sc' in locals():\n",
    "    sc.stop()\n",
    "execfile(os.path.join(spark_home, 'python\\pyspark\\shell.py'))\n",
    "print(sc)"
   ]
  },
  {
   "cell_type": "code",
   "execution_count": 20,
   "metadata": {
    "collapsed": false
   },
   "outputs": [
    {
     "data": {
      "text/plain": [
       "66"
      ]
     },
     "execution_count": 20,
     "metadata": {},
     "output_type": "execute_result"
    }
   ],
   "source": [
    "comments = sqlContext.read.json(\"data/hacker_news_small.json\")\n",
    "comments.count()"
   ]
  },
  {
   "cell_type": "code",
   "execution_count": 4,
   "metadata": {
    "collapsed": false
   },
   "outputs": [
    {
     "name": "stdout",
     "output_type": "stream",
     "text": [
      "root\n",
      " |-- _tags: array (nullable = true)\n",
      " |    |-- element: string (containsNull = true)\n",
      " |-- author: string (nullable = true)\n",
      " |-- comment_text: string (nullable = true)\n",
      " |-- created_at: string (nullable = true)\n",
      " |-- created_at_i: long (nullable = true)\n",
      " |-- num_comments: string (nullable = true)\n",
      " |-- objectID: string (nullable = true)\n",
      " |-- parent_id: long (nullable = true)\n",
      " |-- points: long (nullable = true)\n",
      " |-- story_id: long (nullable = true)\n",
      " |-- story_text: string (nullable = true)\n",
      " |-- story_title: string (nullable = true)\n",
      " |-- story_url: string (nullable = true)\n",
      " |-- title: string (nullable = true)\n",
      " |-- url: string (nullable = true)\n",
      "\n"
     ]
    }
   ],
   "source": [
    "comments.printSchema()"
   ]
  },
  {
   "cell_type": "code",
   "execution_count": 5,
   "metadata": {
    "collapsed": false
   },
   "outputs": [
    {
     "name": "stdout",
     "output_type": "stream",
     "text": [
      "+--------------------+----------+--------------------+--------------------+------------+------------+--------+---------+------+--------+----------+--------------------+--------------------+-----+----+\n",
      "|               _tags|    author|        comment_text|          created_at|created_at_i|num_comments|objectID|parent_id|points|story_id|story_text|         story_title|           story_url|title| url|\n",
      "+--------------------+----------+--------------------+--------------------+------------+------------+--------+---------+------+--------+----------+--------------------+--------------------+-----+----+\n",
      "|[comment, author_...|       VMG|Because you don&#...|2014-05-30T08:19:34Z|  1401437974|        None| 7820767|  7820656|     1| 7820350|      None|Mark Zuckerberg a...|http://www.mercur...| None|None|\n",
      "|[comment, author_...|hackerboos|$649 in US<p>$699...|2014-05-30T08:18:47Z|  1401437927|        None| 7820764|  7820517|     1| 7820517|      None|4K for $649: Asus...|http://techreport...| None|None|\n",
      "|[comment, author_...|  unhammer|The one I use mos...|2014-05-30T08:17:54Z|  1401437874|        None| 7820763|  7820701|     1| 7817934|      None|Laverna: Self-hos...|   http://laverna.cc| None|None|\n",
      "+--------------------+----------+--------------------+--------------------+------------+------------+--------+---------+------+--------+----------+--------------------+--------------------+-----+----+\n",
      "only showing top 3 rows\n",
      "\n"
     ]
    }
   ],
   "source": [
    "comments.show(3)\n"
   ]
  },
  {
   "cell_type": "code",
   "execution_count": 6,
   "metadata": {
    "collapsed": false
   },
   "outputs": [
    {
     "name": "stdout",
     "output_type": "stream",
     "text": [
      "+--------------------+\n",
      "|        comment_text|\n",
      "+--------------------+\n",
      "|Because you don&#...|\n",
      "|$649 in US<p>$699...|\n",
      "|The one I use mos...|\n",
      "+--------------------+\n",
      "only showing top 3 rows\n",
      "\n"
     ]
    }
   ],
   "source": [
    "comments.select(comments[\"comment_text\"]).show(3)"
   ]
  },
  {
   "cell_type": "markdown",
   "metadata": {},
   "source": [
    "The above line is a good oportunity to look at the documentation:\n",
    "\n",
    "https://spark.apache.org/docs/1.6.1/api/python/pyspark.sql.html\n",
    "\n",
    "show() is in the DataFrame functions. Or search for \"show(n=20\" because the show() function is used in a lot of examples.\n",
    "\n",
    "This is also a good time to introduce the line continuation character \"\\\" which makes reading long commands easier."
   ]
  },
  {
   "cell_type": "code",
   "execution_count": 22,
   "metadata": {
    "collapsed": false
   },
   "outputs": [
    {
     "name": "stdout",
     "output_type": "stream",
     "text": [
      "+----------------------------------------------------------------------------------------------------------------------------------------------------------------------------------------------------------------------------------------------------------------------------------------------------------------------------------------------------------------------------------------------------------+\n",
      "|comment_text                                                                                                                                                                                                                                                                                                                                                                                              |\n",
      "+----------------------------------------------------------------------------------------------------------------------------------------------------------------------------------------------------------------------------------------------------------------------------------------------------------------------------------------------------------------------------------------------------------+\n",
      "|Because you don&#x27;t have to rely on a political apparatus to spend the money wisely.<p>By the way, nobody has to wait for billionaires anywhere, if you want to help out in education, get up and do it.                                                                                                                                                                                               |\n",
      "|$649 in US<p>$699 in Canada<p>$1000 in UK &lt;- What on earth is going on here - even with 20% VAT?                                                                                                                                                                                                                                                                                                       |\n",
      "|The one I use most in addition to Owncloud is <a href=\"http://subsonic.org/\" rel=\"nofollow\">http:&#x2F;&#x2F;subsonic.org&#x2F;</a> – after I ripped my full music collection I no longer felt the need for a Spotify subscription. Subsonic has a really nice Android app, but the only iPhone app I found was quite confusing, so if you&#x27;re using an iPhone you should probably … make a new app :)|\n",
      "+----------------------------------------------------------------------------------------------------------------------------------------------------------------------------------------------------------------------------------------------------------------------------------------------------------------------------------------------------------------------------------------------------------+\n",
      "only showing top 3 rows\n",
      "\n"
     ]
    }
   ],
   "source": [
    "comments\\\n",
    "    .select(comments[\"comment_text\"])\\\n",
    "    .show(3, truncate=False)"
   ]
  },
  {
   "cell_type": "markdown",
   "metadata": {},
   "source": [
    "# Cleaning\n",
    "\n",
    "From the sample comments, we can see that if we are going to look at what words are in the comments, we will need to remove the HTML tags and we will need to convert HTML entities like \"&#x27;\" to their characters like \"'\". There are a number of libraries we could use to do that but we will work with just do a regular expression because Spark is the focus for today."
   ]
  },
  {
   "cell_type": "code",
   "execution_count": 8,
   "metadata": {
    "collapsed": false
   },
   "outputs": [
    {
     "name": "stdout",
     "output_type": "stream",
     "text": [
      "asdf you'\n"
     ]
    }
   ],
   "source": [
    "import re\n",
    "expression = re.compile(r'<.*?>')\n",
    "import HTMLParser\n",
    "parser = HTMLParser.HTMLParser()\n",
    "\n",
    "def strip_tags(html):\n",
    "    return parser.unescape(\n",
    "        expression.sub('', html)\n",
    "        )\n",
    "    \n",
    "print(strip_tags(\"<html>asdf you&#x27;</html>\"))"
   ]
  },
  {
   "cell_type": "markdown",
   "metadata": {},
   "source": [
    "That's a nice little function but how do we run it on a column in the dataframe? And where do we store the results? What we want to do is add a column to the dataframe with text that has no HTML in it. This is called applying a user defined function to your data."
   ]
  },
  {
   "cell_type": "code",
   "execution_count": 24,
   "metadata": {
    "collapsed": false
   },
   "outputs": [
    {
     "ename": "TypeError",
     "evalue": "expected string or buffer",
     "output_type": "error",
     "traceback": [
      "\u001b[1;31m---------------------------------------------------------------------------\u001b[0m",
      "\u001b[1;31mTypeError\u001b[0m                                 Traceback (most recent call last)",
      "\u001b[1;32m<ipython-input-24-a9e74aeabd50>\u001b[0m in \u001b[0;36m<module>\u001b[1;34m()\u001b[0m\n\u001b[1;32m----> 1\u001b[1;33m \u001b[0mcomments_clean\u001b[0m \u001b[1;33m=\u001b[0m \u001b[0mcomments\u001b[0m\u001b[1;33m.\u001b[0m\u001b[0mwithColumn\u001b[0m\u001b[1;33m(\u001b[0m\u001b[1;34m\"comment_clean\"\u001b[0m\u001b[1;33m,\u001b[0m \u001b[0mstrip_tags\u001b[0m\u001b[1;33m(\u001b[0m\u001b[0mcomments\u001b[0m\u001b[1;33m[\u001b[0m\u001b[1;34m\"comment_text\"\u001b[0m\u001b[1;33m]\u001b[0m\u001b[1;33m)\u001b[0m\u001b[1;33m)\u001b[0m\u001b[1;33m\u001b[0m\u001b[0m\n\u001b[0m",
      "\u001b[1;32m<ipython-input-8-05eecd868799>\u001b[0m in \u001b[0;36mstrip_tags\u001b[1;34m(html)\u001b[0m\n\u001b[0;32m      6\u001b[0m \u001b[1;32mdef\u001b[0m \u001b[0mstrip_tags\u001b[0m\u001b[1;33m(\u001b[0m\u001b[0mhtml\u001b[0m\u001b[1;33m)\u001b[0m\u001b[1;33m:\u001b[0m\u001b[1;33m\u001b[0m\u001b[0m\n\u001b[0;32m      7\u001b[0m     return parser.unescape(\n\u001b[1;32m----> 8\u001b[1;33m         \u001b[0mexpression\u001b[0m\u001b[1;33m.\u001b[0m\u001b[0msub\u001b[0m\u001b[1;33m(\u001b[0m\u001b[1;34m''\u001b[0m\u001b[1;33m,\u001b[0m \u001b[0mhtml\u001b[0m\u001b[1;33m)\u001b[0m\u001b[1;33m\u001b[0m\u001b[0m\n\u001b[0m\u001b[0;32m      9\u001b[0m         )\n\u001b[0;32m     10\u001b[0m \u001b[1;33m\u001b[0m\u001b[0m\n",
      "\u001b[1;31mTypeError\u001b[0m: expected string or buffer"
     ]
    }
   ],
   "source": [
    "comments_clean = comments.withColumn(\"comment_clean\", strip_tags(comments[\"comment_text\"]))"
   ]
  },
  {
   "cell_type": "markdown",
   "metadata": {},
   "source": [
    "Whoops! That didn't work. We wrote a Python function that takes a string and passed it a Spark dataframe column. What we want is to get Spark to do is to run that function for every value in the column with means we have to change our function to something Spark knows how to handle. Fortunately, there's a function to do just that. Notice that the argument to udf() is a function and the return is a function. In Python, functins are first class objects, they're a thing that can be manuipulated, calculated, returned, etc. like other data types."
   ]
  },
  {
   "cell_type": "code",
   "execution_count": 25,
   "metadata": {
    "collapsed": false
   },
   "outputs": [],
   "source": [
    "from pyspark.sql.functions import udf\n",
    "\n",
    "strip_tags_udf = udf(strip_tags)\n",
    "\n",
    "comments_clean = comments.withColumn(\"comment_clean\", strip_tags_udf(comments[\"comment_text\"]))"
   ]
  },
  {
   "cell_type": "code",
   "execution_count": 27,
   "metadata": {
    "collapsed": false,
    "scrolled": true
   },
   "outputs": [
    {
     "name": "stdout",
     "output_type": "stream",
     "text": [
      "+------------------------------------------------------------------------------------------------------------------------------------------------------------------------------------------------------------------------------------------------------------------------------------------------------------------------------------+\n",
      "|comment_clean                                                                                                                                                                                                                                                                                                                       |\n",
      "+------------------------------------------------------------------------------------------------------------------------------------------------------------------------------------------------------------------------------------------------------------------------------------------------------------------------------------+\n",
      "|Because you don't have to rely on a political apparatus to spend the money wisely.By the way, nobody has to wait for billionaires anywhere, if you want to help out in education, get up and do it.                                                                                                                                 |\n",
      "|$649 in US$699 in Canada$1000 in UK <- What on earth is going on here - even with 20% VAT?                                                                                                                                                                                                                                          |\n",
      "|The one I use most in addition to Owncloud is http://subsonic.org/ – after I ripped my full music collection I no longer felt the need for a Spotify subscription. Subsonic has a really nice Android app, but the only iPhone app I found was quite confusing, so if you're using an iPhone you should probably … make a new app :)|\n",
      "+------------------------------------------------------------------------------------------------------------------------------------------------------------------------------------------------------------------------------------------------------------------------------------------------------------------------------------+\n",
      "only showing top 3 rows\n",
      "\n"
     ]
    }
   ],
   "source": [
    "comments_clean\\\n",
    "    .select(comments_clean[\"comment_clean\"])\\\n",
    "    .show(3, truncate=False)"
   ]
  },
  {
   "cell_type": "markdown",
   "metadata": {},
   "source": [
    "# Tokenizing\n",
    "\n",
    "Today we're going to do some very simple NLP. We'll consider the comments to just be a collection of words. We'll use those words to figure out which posts are most relavent to a search term that we're interested in.\n",
    "\n",
    "First up is splitting the comments up in to lists of words. At this point we'll introduce the machine learning API:\n",
    "\n",
    "(Mention ml vs mllib)\n",
    "\n",
    "https://spark.apache.org/docs/1.6.1/api/python/pyspark.ml.html\n"
   ]
  },
  {
   "cell_type": "code",
   "execution_count": 31,
   "metadata": {
    "collapsed": false
   },
   "outputs": [],
   "source": [
    "from pyspark.ml.feature import Tokenizer\n",
    "tokenizer = Tokenizer(inputCol=\"comment_clean\", outputCol=\"words\")\n",
    "\n",
    "comments_words = tokenizer.transform(comments_clean)"
   ]
  },
  {
   "cell_type": "code",
   "execution_count": 32,
   "metadata": {
    "collapsed": false
   },
   "outputs": [
    {
     "name": "stdout",
     "output_type": "stream",
     "text": [
      "+--------------------------------------------------------------------------------------------------------------------------------------------------------------------------------------------------------------------------------------------------------------------------------------------------------------------------------------------------------------------------------------------------+\n",
      "|words                                                                                                                                                                                                                                                                                                                                                                                             |\n",
      "+--------------------------------------------------------------------------------------------------------------------------------------------------------------------------------------------------------------------------------------------------------------------------------------------------------------------------------------------------------------------------------------------------+\n",
      "|[because, you, don't, have, to, rely, on, a, political, apparatus, to, spend, the, money, wisely.by, the, way,, nobody, has, to, wait, for, billionaires, anywhere,, if, you, want, to, help, out, in, education,, get, up, and, do, it.]                                                                                                                                                         |\n",
      "|[$649, in, us$699, in, canada$1000, in, uk, <-, what, on, earth, is, going, on, here, -, even, with, 20%, vat?]                                                                                                                                                                                                                                                                                   |\n",
      "|[the, one, i, use, most, in, addition, to, owncloud, is, http://subsonic.org/, –, after, i, ripped, my, full, music, collection, i, no, longer, felt, the, need, for, a, spotify, subscription., subsonic, has, a, really, nice, android, app,, but, the, only, iphone, app, i, found, was, quite, confusing,, so, if, you're, using, an, iphone, you, should, probably, …, make, a, new, app, :)]|\n",
      "+--------------------------------------------------------------------------------------------------------------------------------------------------------------------------------------------------------------------------------------------------------------------------------------------------------------------------------------------------------------------------------------------------+\n",
      "only showing top 3 rows\n",
      "\n"
     ]
    }
   ],
   "source": [
    "comments_words\\\n",
    "    .select(comments_words[\"words\"])\\\n",
    "    .show(3, truncate=False)"
   ]
  },
  {
   "cell_type": "code",
   "execution_count": 37,
   "metadata": {
    "collapsed": false
   },
   "outputs": [],
   "source": [
    "from pyspark.ml.feature import StopWordsRemover\n",
    "stopWordsRemover = StopWordsRemover(inputCol=\"words\", outputCol=\"tokens\")\n",
    "\n",
    "comments_tokens = stopWordsRemover.transform(comments_words)\n"
   ]
  },
  {
   "cell_type": "code",
   "execution_count": 38,
   "metadata": {
    "collapsed": false
   },
   "outputs": [
    {
     "name": "stdout",
     "output_type": "stream",
     "text": [
      "+--------------------------------------------------------------------------------------------------------------------------------------------------------------------------------------------------------------------------------------------------------+\n",
      "|tokens                                                                                                                                                                                                                                                  |\n",
      "+--------------------------------------------------------------------------------------------------------------------------------------------------------------------------------------------------------------------------------------------------------+\n",
      "|[don't, rely, political, apparatus, spend, money, wisely.by, way,, wait, billionaires, anywhere,, want, help, education,, it.]                                                                                                                          |\n",
      "|[$649, us$699, canada$1000, uk, <-, earth, going, -, 20%, vat?]                                                                                                                                                                                         |\n",
      "|[use, addition, owncloud, http://subsonic.org/, –, ripped, music, collection, longer, felt, need, spotify, subscription., subsonic, really, nice, android, app,, iphone, app, quite, confusing,, you're, using, iphone, probably, …, make, new, app, :)]|\n",
      "+--------------------------------------------------------------------------------------------------------------------------------------------------------------------------------------------------------------------------------------------------------+\n",
      "only showing top 3 rows\n",
      "\n"
     ]
    }
   ],
   "source": [
    "comments_tokens\\\n",
    "    .select(comments_tokens[\"tokens\"])\\\n",
    "    .show(3, truncate=False)"
   ]
  },
  {
   "cell_type": "markdown",
   "metadata": {},
   "source": [
    "# TF-IDF Searching\n",
    "\n"
   ]
  },
  {
   "cell_type": "code",
   "execution_count": 39,
   "metadata": {
    "collapsed": true
   },
   "outputs": [],
   "source": [
    "from pyspark.ml.feature import HashingTF\n",
    "\n",
    "tf = HashingTF(inputCol=\"tokens\", outputCol=\"tf\")\n",
    "\n",
    "comments_tf = tf.transform(comments_tokens)"
   ]
  },
  {
   "cell_type": "code",
   "execution_count": 40,
   "metadata": {
    "collapsed": false
   },
   "outputs": [
    {
     "name": "stdout",
     "output_type": "stream",
     "text": [
      "+----------------------------------------------------------------------------------------------------------------------------------------------------------------------------------------------------------------------------------------------------------------------------------------------------------------------------+\n",
      "|tf                                                                                                                                                                                                                                                                                                                          |\n",
      "+----------------------------------------------------------------------------------------------------------------------------------------------------------------------------------------------------------------------------------------------------------------------------------------------------------------------------+\n",
      "|(262144,[8384,48893,53057,65886,83376,88832,101764,104547,111991,131875,178740,211217,233845,234000,234269],[1.0,1.0,1.0,1.0,1.0,1.0,1.0,1.0,1.0,1.0,1.0,1.0,1.0,1.0,1.0])                                                                                                                                                  |\n",
      "|(262144,[45,1905,3734,48848,49575,71754,77463,145525,204342,229882],[1.0,1.0,1.0,1.0,1.0,1.0,1.0,1.0,1.0,1.0])                                                                                                                                                                                                              |\n",
      "|(262144,[1839,5797,8211,8230,13935,25627,46422,47180,51889,96171,96801,108960,110238,116103,117291,124602,157115,165443,171140,192037,193135,198126,205865,206838,231574,235357,244476,251884,255623],[1.0,2.0,1.0,1.0,1.0,1.0,1.0,1.0,1.0,1.0,2.0,1.0,1.0,1.0,1.0,1.0,1.0,1.0,1.0,1.0,1.0,1.0,1.0,1.0,1.0,1.0,1.0,1.0,1.0])|\n",
      "+----------------------------------------------------------------------------------------------------------------------------------------------------------------------------------------------------------------------------------------------------------------------------------------------------------------------------+\n",
      "only showing top 3 rows\n",
      "\n"
     ]
    }
   ],
   "source": [
    "comments_tf\\\n",
    "    .select(comments_tf[\"tf\"])\\\n",
    "    .show(3, truncate=False)"
   ]
  },
  {
   "cell_type": "code",
   "execution_count": 44,
   "metadata": {
    "collapsed": false
   },
   "outputs": [],
   "source": [
    "from pyspark.ml.feature import IDF\n",
    "\n",
    "idf = IDF(inputCol=\"tf\", outputCol=\"idf\")\n",
    "comments_idf = idf.fit(comments_tf).transform(comments_tf)"
   ]
  },
  {
   "cell_type": "code",
   "execution_count": 45,
   "metadata": {
    "collapsed": false
   },
   "outputs": [
    {
     "name": "stdout",
     "output_type": "stream",
     "text": [
      "+-------------------------------------------------------------------------------------------------------------------------------------------------------------------------------------------------------------------------------------------------------------------------------------------------------------------------------------------------------------------------------------------------------------------------------------------------------------------------------------------------------------------------------------------------------------------------------------------------------------------------------------------------------------------------------------------------------------------------------------------------------------------------+\n",
      "|idf                                                                                                                                                                                                                                                                                                                                                                                                                                                                                                                                                                                                                                                                                                                                                                      |\n",
      "+-------------------------------------------------------------------------------------------------------------------------------------------------------------------------------------------------------------------------------------------------------------------------------------------------------------------------------------------------------------------------------------------------------------------------------------------------------------------------------------------------------------------------------------------------------------------------------------------------------------------------------------------------------------------------------------------------------------------------------------------------------------------------+\n",
      "|(262144,[8384,48893,53057,65886,83376,88832,101764,104547,111991,131875,178740,211217,233845,234000,234269],[2.12525107771113,3.106080330722856,2.8183982582710754,3.106080330722856,1.7197859696029656,3.5115454388310208,3.5115454388310208,3.106080330722856,3.5115454388310208,3.5115454388310208,3.5115454388310208,3.5115454388310208,3.106080330722856,2.5952547069568657,3.5115454388310208])                                                                                                                                                                                                                                                                                                                                                                    |\n",
      "|(262144,[45,1905,3734,48848,49575,71754,77463,145525,204342,229882],[2.12525107771113,3.5115454388310208,3.5115454388310208,3.5115454388310208,2.5952547069568657,3.106080330722856,3.5115454388310208,3.5115454388310208,3.5115454388310208,2.412933150162911])                                                                                                                                                                                                                                                                                                                                                                                                                                                                                                         |\n",
      "|(262144,[1839,5797,8211,8230,13935,25627,46422,47180,51889,96171,96801,108960,110238,116103,117291,124602,157115,165443,171140,192037,193135,198126,205865,206838,231574,235357,244476,251884,255623],[3.5115454388310208,7.0230908776620415,3.5115454388310208,3.5115454388310208,3.5115454388310208,2.5952547069568657,3.5115454388310208,3.5115454388310208,3.5115454388310208,2.412933150162911,7.0230908776620415,3.106080330722856,3.5115454388310208,2.12525107771113,3.5115454388310208,3.5115454388310208,3.5115454388310208,2.5952547069568657,2.8183982582710754,3.5115454388310208,3.5115454388310208,1.9021075263969205,3.5115454388310208,2.5952547069568657,2.8183982582710754,3.106080330722856,3.106080330722856,3.5115454388310208,3.5115454388310208])|\n",
      "+-------------------------------------------------------------------------------------------------------------------------------------------------------------------------------------------------------------------------------------------------------------------------------------------------------------------------------------------------------------------------------------------------------------------------------------------------------------------------------------------------------------------------------------------------------------------------------------------------------------------------------------------------------------------------------------------------------------------------------------------------------------------------+\n",
      "only showing top 3 rows\n",
      "\n"
     ]
    }
   ],
   "source": [
    "comments_idf\\\n",
    "    .select(comments_idf[\"idf\"])\\\n",
    "    .show(3, truncate=False)"
   ]
  },
  {
   "cell_type": "code",
   "execution_count": null,
   "metadata": {
    "collapsed": true
   },
   "outputs": [],
   "source": []
  },
  {
   "cell_type": "code",
   "execution_count": 48,
   "metadata": {
    "collapsed": false
   },
   "outputs": [
    {
     "data": {
      "text/plain": [
       "[15, 30, 28]"
      ]
     },
     "execution_count": 48,
     "metadata": {},
     "output_type": "execute_result"
    }
   ],
   "source": [
    "x = [3, 5, 4]\n",
    "y = [5, 6, 7]\n",
    "[a*b for a, b in zip(x, y)]"
   ]
  }
 ],
 "metadata": {
  "kernelspec": {
   "display_name": "Python 2",
   "language": "python",
   "name": "python2"
  },
  "language_info": {
   "codemirror_mode": {
    "name": "ipython",
    "version": 2
   },
   "file_extension": ".py",
   "mimetype": "text/x-python",
   "name": "python",
   "nbconvert_exporter": "python",
   "pygments_lexer": "ipython2",
   "version": "2.7.11"
  }
 },
 "nbformat": 4,
 "nbformat_minor": 0
}
