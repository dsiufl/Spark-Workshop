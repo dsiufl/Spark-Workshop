{
 "cells": [
  {
   "cell_type": "markdown",
   "metadata": {
    "collapsed": false
   },
   "source": [
    "# Brief introduction to Spark - on jupyter.idigbio.org\n",
    "\n",
    "This is a brief introduction to Spark intended to take about 1 hour up through the word2vec material including the introduction Powerpoint.\n",
    "\n",
    "This notebook will run on the JupyterHub cluster maintained by iDigBio at jupyter.idigbio.org . To run locally, you will need to install Spark and set up your notebook server to have a sqlContect variable and Spark context running."
   ]
  },
  {
   "cell_type": "code",
   "execution_count": 3,
   "metadata": {
    "collapsed": true
   },
   "outputs": [],
   "source": [
    "from __future__ import print_function\n",
    "import os\n",
    "import sys"
   ]
  },
  {
   "cell_type": "markdown",
   "metadata": {},
   "source": [
    "Our dataset comes from the Hacker News site maintained by the Y Combinator startup incubator: https://www.hackernews.com/ . Comments from several years were downloaded and 100k comments were selected and formated as JSON into a 23 MB compressed file. It is stored on the HDFS cluster."
   ]
  },
  {
   "cell_type": "code",
   "execution_count": 37,
   "metadata": {
    "collapsed": false
   },
   "outputs": [],
   "source": [
    "comments = sqlContext.read.json(\"/tmp/hacker_news_100k.json.gz\")"
   ]
  },
  {
   "cell_type": "markdown",
   "metadata": {},
   "source": [
    "What is the comments variable?"
   ]
  },
  {
   "cell_type": "code",
   "execution_count": 39,
   "metadata": {
    "collapsed": false
   },
   "outputs": [
    {
     "data": {
      "text/plain": [
       "pyspark.sql.dataframe.DataFrame"
      ]
     },
     "execution_count": 39,
     "metadata": {},
     "output_type": "execute_result"
    }
   ],
   "source": [
    "type(comments)"
   ]
  },
  {
   "cell_type": "markdown",
   "metadata": {},
   "source": [
    "It is a Spark data frame, specifically one created and accessed using the pyspark Python library. Notice also that the data frame is a sub object of the SQL object, recall that in Spark data frames are part of the SQL API.\n",
    "\n",
    "What can you do with such a data frame?"
   ]
  },
  {
   "cell_type": "code",
   "execution_count": 40,
   "metadata": {
    "collapsed": false
   },
   "outputs": [
    {
     "data": {
      "text/plain": [
       "100000"
      ]
     },
     "execution_count": 40,
     "metadata": {},
     "output_type": "execute_result"
    }
   ],
   "source": [
    "comments.count()"
   ]
  },
  {
   "cell_type": "code",
   "execution_count": 41,
   "metadata": {
    "collapsed": false
   },
   "outputs": [
    {
     "name": "stdout",
     "output_type": "stream",
     "text": [
      "root\n",
      " |-- _highlightResult: struct (nullable = true)\n",
      " |    |-- author: struct (nullable = true)\n",
      " |    |    |-- matchLevel: string (nullable = true)\n",
      " |    |    |-- matchedWords: array (nullable = true)\n",
      " |    |    |    |-- element: string (containsNull = true)\n",
      " |    |    |-- value: string (nullable = true)\n",
      " |    |-- comment_text: struct (nullable = true)\n",
      " |    |    |-- matchLevel: string (nullable = true)\n",
      " |    |    |-- matchedWords: array (nullable = true)\n",
      " |    |    |    |-- element: string (containsNull = true)\n",
      " |    |    |-- value: string (nullable = true)\n",
      " |    |-- story_title: struct (nullable = true)\n",
      " |    |    |-- matchLevel: string (nullable = true)\n",
      " |    |    |-- matchedWords: array (nullable = true)\n",
      " |    |    |    |-- element: string (containsNull = true)\n",
      " |    |    |-- value: string (nullable = true)\n",
      " |    |-- story_url: struct (nullable = true)\n",
      " |    |    |-- matchLevel: string (nullable = true)\n",
      " |    |    |-- matchedWords: array (nullable = true)\n",
      " |    |    |    |-- element: string (containsNull = true)\n",
      " |    |    |-- value: string (nullable = true)\n",
      " |-- _tags: array (nullable = true)\n",
      " |    |-- element: string (containsNull = true)\n",
      " |-- author: string (nullable = true)\n",
      " |-- comment_text: string (nullable = true)\n",
      " |-- created_at: string (nullable = true)\n",
      " |-- created_at_i: long (nullable = true)\n",
      " |-- num_comments: string (nullable = true)\n",
      " |-- objectID: string (nullable = true)\n",
      " |-- parent_id: long (nullable = true)\n",
      " |-- points: long (nullable = true)\n",
      " |-- story_id: long (nullable = true)\n",
      " |-- story_text: string (nullable = true)\n",
      " |-- story_title: string (nullable = true)\n",
      " |-- story_url: string (nullable = true)\n",
      " |-- title: string (nullable = true)\n",
      " |-- url: string (nullable = true)\n",
      "\n"
     ]
    }
   ],
   "source": [
    "comments.printSchema()"
   ]
  },
  {
   "cell_type": "code",
   "execution_count": 42,
   "metadata": {
    "collapsed": false
   },
   "outputs": [
    {
     "name": "stdout",
     "output_type": "stream",
     "text": [
      "+--------------------+--------------------+----------+--------------------+--------------------+------------+------------+--------+---------+------+--------+----------+--------------------+--------------------+-----+----+\n",
      "|    _highlightResult|               _tags|    author|        comment_text|          created_at|created_at_i|num_comments|objectID|parent_id|points|story_id|story_text|         story_title|           story_url|title| url|\n",
      "+--------------------+--------------------+----------+--------------------+--------------------+------------+------------+--------+---------+------+--------+----------+--------------------+--------------------+-----+----+\n",
      "|[[none,WrappedArr...|[comment, author_...|       VMG|Because you don&#...|2014-05-30T08:19:34Z|  1401437974|        null| 7820767|  7820656|     1| 7820350|      null|Mark Zuckerberg a...|http://www.mercur...| null|null|\n",
      "|[[none,WrappedArr...|[comment, author_...|hackerboos|$649 in US<p>$699...|2014-05-30T08:18:47Z|  1401437927|        null| 7820764|  7820517|     1| 7820517|      null|4K for $649: Asus...|http://techreport...| null|null|\n",
      "|[[none,WrappedArr...|[comment, author_...|  unhammer|The one I use mos...|2014-05-30T08:17:54Z|  1401437874|        null| 7820763|  7820701|     1| 7817934|      null|Laverna: Self-hos...|   http://laverna.cc| null|null|\n",
      "+--------------------+--------------------+----------+--------------------+--------------------+------------+------------+--------+---------+------+--------+----------+--------------------+--------------------+-----+----+\n",
      "only showing top 3 rows\n",
      "\n"
     ]
    }
   ],
   "source": [
    "comments.show(3)\n"
   ]
  },
  {
   "cell_type": "code",
   "execution_count": 46,
   "metadata": {
    "collapsed": false
   },
   "outputs": [
    {
     "name": "stdout",
     "output_type": "stream",
     "text": [
      "+--------------------+\n",
      "|        comment_text|\n",
      "+--------------------+\n",
      "|Because you don&#...|\n",
      "|$649 in US<p>$699...|\n",
      "|The one I use mos...|\n",
      "+--------------------+\n",
      "only showing top 3 rows\n",
      "\n"
     ]
    }
   ],
   "source": [
    "from pyspark.sql.functions import col\n",
    "\n",
    "comments.select(col(\"comment_text\")).show(3)"
   ]
  },
  {
   "cell_type": "markdown",
   "metadata": {},
   "source": [
    "The above line is a good oportunity to look at the documentation:\n",
    "\n",
    "http://spark.apache.org/docs/latest/api/python/pyspark.sql.html\n",
    "\n",
    "show() is in the DataFrame functions. Or search for \"show(n=20\" because the show() function is used in a lot of examples.\n",
    "\n",
    "This is also a good time to introduce the \"()\" syntax which makes reading long commands easier."
   ]
  },
  {
   "cell_type": "code",
   "execution_count": 47,
   "metadata": {
    "collapsed": false
   },
   "outputs": [
    {
     "name": "stdout",
     "output_type": "stream",
     "text": [
      "+----------------------------------------------------------------------------------------------------------------------------------------------------------------------------------------------------------------------------------------------------------------------------------------------------------------------------------------------------------------------------------------------------------+\n",
      "|comment_text                                                                                                                                                                                                                                                                                                                                                                                              |\n",
      "+----------------------------------------------------------------------------------------------------------------------------------------------------------------------------------------------------------------------------------------------------------------------------------------------------------------------------------------------------------------------------------------------------------+\n",
      "|Because you don&#x27;t have to rely on a political apparatus to spend the money wisely.<p>By the way, nobody has to wait for billionaires anywhere, if you want to help out in education, get up and do it.                                                                                                                                                                                               |\n",
      "|$649 in US<p>$699 in Canada<p>$1000 in UK &lt;- What on earth is going on here - even with 20% VAT?                                                                                                                                                                                                                                                                                                       |\n",
      "|The one I use most in addition to Owncloud is <a href=\"http://subsonic.org/\" rel=\"nofollow\">http:&#x2F;&#x2F;subsonic.org&#x2F;</a> – after I ripped my full music collection I no longer felt the need for a Spotify subscription. Subsonic has a really nice Android app, but the only iPhone app I found was quite confusing, so if you&#x27;re using an iPhone you should probably … make a new app :)|\n",
      "+----------------------------------------------------------------------------------------------------------------------------------------------------------------------------------------------------------------------------------------------------------------------------------------------------------------------------------------------------------------------------------------------------------+\n",
      "only showing top 3 rows\n",
      "\n"
     ]
    }
   ],
   "source": [
    "(comments\n",
    "    .select(col(\"comment_text\"))\n",
    "    .show(3, truncate=False)\n",
    " )"
   ]
  },
  {
   "cell_type": "markdown",
   "metadata": {},
   "source": [
    "# Natural Language Processing\n",
    "\n",
    "\n",
    "\n",
    "**Sourcing -> Cleaning -> Tokenizing -> Stop Word Removal -> Analysis**\n",
    "\n",
    "Some example analyses include:\n",
    "\n",
    " - Part of speech tagging\n",
    " - Phrase construction\n",
    " - Word2Vec (see example below)\n",
    " - Sentiment analysis\n",
    "\n",
    "\n",
    "## Cleaning\n",
    "\n",
    "From the sample comments, we can see that if we are going to look at what words are in the comments, we will need to remove the HTML tags and we will need to convert HTML entities like \"&#x27;\" to their characters like \"'\". There are a number of libraries we could use to do that but we will work with just do a regular expression because Spark is the focus for today."
   ]
  },
  {
   "cell_type": "code",
   "execution_count": 48,
   "metadata": {
    "collapsed": false
   },
   "outputs": [
    {
     "name": "stdout",
     "output_type": "stream",
     "text": [
      "you're a Gator!\n"
     ]
    },
    {
     "name": "stderr",
     "output_type": "stream",
     "text": [
      "/usr/local/lib/python3.5/dist-packages/ipykernel/__main__.py:9: DeprecationWarning: The unescape method is deprecated and will be removed in 3.5, use html.unescape() instead.\n"
     ]
    }
   ],
   "source": [
    "import re\n",
    "expression = re.compile(r'<.*?>')\n",
    "\n",
    "from html.parser import HTMLParser\n",
    "parser = HTMLParser()\n",
    "\n",
    "def strip_tags(html):\n",
    "    return parser.unescape(\n",
    "        expression.sub('', html)\n",
    "        )\n",
    "    \n",
    "print(strip_tags(\"<b>you&#x27;re a Gator!</b>\"))"
   ]
  },
  {
   "cell_type": "markdown",
   "metadata": {},
   "source": [
    "That's a nice little function but how do we run it on a column in the dataframe? And where do we store the results? What we want to do is add a column to the dataframe with text that has no HTML in it. This is called applying a user defined function to your data."
   ]
  },
  {
   "cell_type": "code",
   "execution_count": 49,
   "metadata": {
    "collapsed": false
   },
   "outputs": [
    {
     "ename": "TypeError",
     "evalue": "expected string or bytes-like object",
     "output_type": "error",
     "traceback": [
      "\u001b[0;31m---------------------------------------------------------------------------\u001b[0m",
      "\u001b[0;31mTypeError\u001b[0m                                 Traceback (most recent call last)",
      "\u001b[0;32m<ipython-input-49-054bce24e97d>\u001b[0m in \u001b[0;36m<module>\u001b[0;34m()\u001b[0m\n\u001b[1;32m      1\u001b[0m comments_clean = comments.withColumn(\"comment_clean\", \n\u001b[0;32m----> 2\u001b[0;31m                                      \u001b[0mstrip_tags\u001b[0m\u001b[0;34m(\u001b[0m\u001b[0mcol\u001b[0m\u001b[0;34m(\u001b[0m\u001b[0;34m\"comment_text\"\u001b[0m\u001b[0;34m)\u001b[0m\u001b[0;34m)\u001b[0m\u001b[0;34m\u001b[0m\u001b[0m\n\u001b[0m\u001b[1;32m      3\u001b[0m                                     )\n",
      "\u001b[0;32m<ipython-input-48-20e3d047ef11>\u001b[0m in \u001b[0;36mstrip_tags\u001b[0;34m(html)\u001b[0m\n\u001b[1;32m      7\u001b[0m \u001b[0;32mdef\u001b[0m \u001b[0mstrip_tags\u001b[0m\u001b[0;34m(\u001b[0m\u001b[0mhtml\u001b[0m\u001b[0;34m)\u001b[0m\u001b[0;34m:\u001b[0m\u001b[0;34m\u001b[0m\u001b[0m\n\u001b[1;32m      8\u001b[0m     return parser.unescape(\n\u001b[0;32m----> 9\u001b[0;31m         \u001b[0mexpression\u001b[0m\u001b[0;34m.\u001b[0m\u001b[0msub\u001b[0m\u001b[0;34m(\u001b[0m\u001b[0;34m''\u001b[0m\u001b[0;34m,\u001b[0m \u001b[0mhtml\u001b[0m\u001b[0;34m)\u001b[0m\u001b[0;34m\u001b[0m\u001b[0m\n\u001b[0m\u001b[1;32m     10\u001b[0m         )\n\u001b[1;32m     11\u001b[0m \u001b[0;34m\u001b[0m\u001b[0m\n",
      "\u001b[0;31mTypeError\u001b[0m: expected string or bytes-like object"
     ]
    }
   ],
   "source": [
    "comments_clean = comments.withColumn(\"comment_clean\", \n",
    "                                     strip_tags(col(\"comment_text\"))\n",
    "                                    )"
   ]
  },
  {
   "cell_type": "markdown",
   "metadata": {},
   "source": [
    "Whoops! That didn't work. We wrote a Python function that takes a string and passed it a Spark dataframe column. What we want is to get Spark to do is to run that function for every value in the column with means we have to change our function to something Spark knows how to handle. Fortunately, there's a function to do just that. Notice that the argument to udf() is a function and the return is a function. In Python, functins are first class objects, they're a thing that can be manuipulated, calculated, returned, etc. like other data types."
   ]
  },
  {
   "cell_type": "code",
   "execution_count": 50,
   "metadata": {
    "collapsed": true
   },
   "outputs": [],
   "source": [
    "from pyspark.sql.functions import udf\n",
    "\n",
    "strip_tags_udf = udf(strip_tags)\n",
    "\n",
    "comments_clean = comments.withColumn(\"comment_clean\", \n",
    "                                     strip_tags_udf(col(\"comment_text\"))\n",
    "                                    )"
   ]
  },
  {
   "cell_type": "code",
   "execution_count": 52,
   "metadata": {
    "collapsed": false
   },
   "outputs": [
    {
     "name": "stdout",
     "output_type": "stream",
     "text": [
      "+------------------------------------------------------------------------------------------------------------------------------------------------------------------------------------------------------------------------------------------------------------------------------------------------------------------------------------+\n",
      "|comment_clean                                                                                                                                                                                                                                                                                                                       |\n",
      "+------------------------------------------------------------------------------------------------------------------------------------------------------------------------------------------------------------------------------------------------------------------------------------------------------------------------------------+\n",
      "|Because you don't have to rely on a political apparatus to spend the money wisely.By the way, nobody has to wait for billionaires anywhere, if you want to help out in education, get up and do it.                                                                                                                                 |\n",
      "|$649 in US$699 in Canada$1000 in UK <- What on earth is going on here - even with 20% VAT?                                                                                                                                                                                                                                          |\n",
      "|The one I use most in addition to Owncloud is http://subsonic.org/ – after I ripped my full music collection I no longer felt the need for a Spotify subscription. Subsonic has a really nice Android app, but the only iPhone app I found was quite confusing, so if you're using an iPhone you should probably … make a new app :)|\n",
      "+------------------------------------------------------------------------------------------------------------------------------------------------------------------------------------------------------------------------------------------------------------------------------------------------------------------------------------+\n",
      "only showing top 3 rows\n",
      "\n"
     ]
    }
   ],
   "source": [
    "(comments_clean\n",
    "    .select(col(\"comment_clean\"))\n",
    "    .show(3, truncate=False)\n",
    ")"
   ]
  },
  {
   "cell_type": "markdown",
   "metadata": {},
   "source": [
    "## Tokenizing\n",
    "\n",
    "Today we're going to do some very simple NLP. We'll consider the comments to just be a collection of words. We'll use those words to figure out which posts are most relavent to a search term that we're interested in.\n",
    "\n",
    "First up is splitting the comments up in to lists of words. At this point we'll introduce the machine learning API:\n",
    "\n",
    "(Mention ml for dataframes vs older mllib for RRDs)\n",
    "\n",
    "http://spark.apache.org/docs/latest/api/python/pyspark.ml.html\n"
   ]
  },
  {
   "cell_type": "code",
   "execution_count": 18,
   "metadata": {
    "collapsed": true
   },
   "outputs": [],
   "source": [
    "from pyspark.ml.feature import Tokenizer\n",
    "tokenizer = Tokenizer(inputCol=\"comment_clean\", outputCol=\"words\")\n",
    "\n",
    "comments_words = tokenizer.transform(comments_clean)"
   ]
  },
  {
   "cell_type": "code",
   "execution_count": 55,
   "metadata": {
    "collapsed": false
   },
   "outputs": [
    {
     "name": "stdout",
     "output_type": "stream",
     "text": [
      "+--------------------------------------------------------------------------------------------------------------------------------------------------------------------------------------------------------------------------------------------------------------------------------------------------------------------------------------------------------------------------------------------------+\n",
      "|words                                                                                                                                                                                                                                                                                                                                                                                             |\n",
      "+--------------------------------------------------------------------------------------------------------------------------------------------------------------------------------------------------------------------------------------------------------------------------------------------------------------------------------------------------------------------------------------------------+\n",
      "|[because, you, don't, have, to, rely, on, a, political, apparatus, to, spend, the, money, wisely.by, the, way,, nobody, has, to, wait, for, billionaires, anywhere,, if, you, want, to, help, out, in, education,, get, up, and, do, it.]                                                                                                                                                         |\n",
      "|[$649, in, us$699, in, canada$1000, in, uk, <-, what, on, earth, is, going, on, here, -, even, with, 20%, vat?]                                                                                                                                                                                                                                                                                   |\n",
      "|[the, one, i, use, most, in, addition, to, owncloud, is, http://subsonic.org/, –, after, i, ripped, my, full, music, collection, i, no, longer, felt, the, need, for, a, spotify, subscription., subsonic, has, a, really, nice, android, app,, but, the, only, iphone, app, i, found, was, quite, confusing,, so, if, you're, using, an, iphone, you, should, probably, …, make, a, new, app, :)]|\n",
      "+--------------------------------------------------------------------------------------------------------------------------------------------------------------------------------------------------------------------------------------------------------------------------------------------------------------------------------------------------------------------------------------------------+\n",
      "only showing top 3 rows\n",
      "\n"
     ]
    }
   ],
   "source": [
    "(comments_words\n",
    "    .select(col(\"words\"))\n",
    "    .show(3, truncate=False)\n",
    ")"
   ]
  },
  {
   "cell_type": "code",
   "execution_count": 56,
   "metadata": {
    "collapsed": true
   },
   "outputs": [],
   "source": [
    "# What are the stop words? http://ir.dcs.gla.ac.uk/resources/linguistic_utils/stop_words\n",
    "\n",
    "from pyspark.ml.feature import StopWordsRemover\n",
    "stopWordsRemover = StopWordsRemover(inputCol=\"words\", outputCol=\"tokens\")\n",
    "\n",
    "comments_tokens = stopWordsRemover.transform(comments_words)"
   ]
  },
  {
   "cell_type": "code",
   "execution_count": 57,
   "metadata": {
    "collapsed": false
   },
   "outputs": [
    {
     "name": "stdout",
     "output_type": "stream",
     "text": [
      "+--------------------------------------------------------------------------------------------------------------------------------------------------------------------------------------------------------------------------------------------------------------------------+\n",
      "|tokens                                                                                                                                                                                                                                                                    |\n",
      "+--------------------------------------------------------------------------------------------------------------------------------------------------------------------------------------------------------------------------------------------------------------------------+\n",
      "|[don't, rely, political, apparatus, spend, money, wisely.by, way,, nobody, wait, billionaires, anywhere,, want, help, education,, get, it.]                                                                                                                               |\n",
      "|[$649, us$699, canada$1000, uk, <-, earth, going, -, even, 20%, vat?]                                                                                                                                                                                                     |\n",
      "|[one, use, addition, owncloud, http://subsonic.org/, –, ripped, full, music, collection, longer, felt, need, spotify, subscription., subsonic, really, nice, android, app,, iphone, app, found, quite, confusing,, you're, using, iphone, probably, …, make, new, app, :)]|\n",
      "+--------------------------------------------------------------------------------------------------------------------------------------------------------------------------------------------------------------------------------------------------------------------------+\n",
      "only showing top 3 rows\n",
      "\n"
     ]
    }
   ],
   "source": [
    "(comments_tokens\n",
    "    .select(col(\"tokens\"))\n",
    "    .show(3, truncate=False)\n",
    ")"
   ]
  },
  {
   "cell_type": "markdown",
   "metadata": {},
   "source": [
    "# Analysis - Zipf's Law\n",
    "\n",
    "Zipf's law says that the frequency of a term is inversely proportianal to it's rank ie. the second most common term occurs 1/2 as often as the first; the third most common 1/3 as often; etc. A log-log graph of frequencey vs rank should be a straight line.\n",
    "\n",
    "Let's count our tokens and graph the counts to see what they look like. Here we're going to use a map-reduce pattern of computation which we're going to express in dataframe functions that look like a SQL statement."
   ]
  },
  {
   "cell_type": "code",
   "execution_count": 58,
   "metadata": {
    "collapsed": false
   },
   "outputs": [
    {
     "name": "stdout",
     "output_type": "stream",
     "text": [
      "+------+-----+\n",
      "| token|count|\n",
      "+------+-----+\n",
      "|      |73208|\n",
      "|  it's|23630|\n",
      "| would|21905|\n",
      "|  like|21540|\n",
      "|people|17500|\n",
      "| don't|17306|\n",
      "|   one|14924|\n",
      "| think|13764|\n",
      "|   get|13410|\n",
      "|   use|11724|\n",
      "+------+-----+\n",
      "only showing top 10 rows\n",
      "\n"
     ]
    }
   ],
   "source": [
    "from pyspark.sql.functions import explode\n",
    "\n",
    "tokens = (comments_tokens\n",
    "          .select(explode(comments_tokens[\"tokens\"]).alias(\"token\"))\n",
    "          .groupBy(\"token\")\n",
    "          .count()\n",
    "          .orderBy(\"count\", ascending=False)\n",
    "          )\n",
    "    \n",
    "tokens.show(10)"
   ]
  },
  {
   "cell_type": "markdown",
   "metadata": {},
   "source": [
    "Now how do we graph the frequency against term rank (integer sequence from 1..n)? We have a Spark dataframe but that's not something we can use with graphing tools. But, we can convert it to Pandas.\n",
    "\n",
    "We'll convert the absolute minimum information to a Pandas dataframe - storage, transfer time."
   ]
  },
  {
   "cell_type": "code",
   "execution_count": 59,
   "metadata": {
    "collapsed": true
   },
   "outputs": [],
   "source": [
    "tokens_pdf = (tokens\n",
    "              .select(tokens[\"count\"])\n",
    "              .toPandas()\n",
    "              )"
   ]
  },
  {
   "cell_type": "code",
   "execution_count": 60,
   "metadata": {
    "collapsed": false
   },
   "outputs": [
    {
     "data": {
      "text/plain": [
       "count    335936\n",
       "dtype: int64"
      ]
     },
     "execution_count": 60,
     "metadata": {},
     "output_type": "execute_result"
    }
   ],
   "source": [
    "tokens_pdf.count()"
   ]
  },
  {
   "cell_type": "code",
   "execution_count": 61,
   "metadata": {
    "collapsed": false
   },
   "outputs": [
    {
     "data": {
      "text/html": [
       "<div>\n",
       "<table border=\"1\" class=\"dataframe\">\n",
       "  <thead>\n",
       "    <tr style=\"text-align: right;\">\n",
       "      <th></th>\n",
       "      <th>count</th>\n",
       "      <th>rank</th>\n",
       "      <th>log_rank</th>\n",
       "      <th>log_count</th>\n",
       "    </tr>\n",
       "  </thead>\n",
       "  <tbody>\n",
       "    <tr>\n",
       "      <th>0</th>\n",
       "      <td>73208</td>\n",
       "      <td>1</td>\n",
       "      <td>0.000000</td>\n",
       "      <td>11.201060</td>\n",
       "    </tr>\n",
       "    <tr>\n",
       "      <th>1</th>\n",
       "      <td>23630</td>\n",
       "      <td>2</td>\n",
       "      <td>0.693147</td>\n",
       "      <td>10.070272</td>\n",
       "    </tr>\n",
       "    <tr>\n",
       "      <th>2</th>\n",
       "      <td>21905</td>\n",
       "      <td>3</td>\n",
       "      <td>1.098612</td>\n",
       "      <td>9.994470</td>\n",
       "    </tr>\n",
       "    <tr>\n",
       "      <th>3</th>\n",
       "      <td>21540</td>\n",
       "      <td>4</td>\n",
       "      <td>1.386294</td>\n",
       "      <td>9.977667</td>\n",
       "    </tr>\n",
       "    <tr>\n",
       "      <th>4</th>\n",
       "      <td>17500</td>\n",
       "      <td>5</td>\n",
       "      <td>1.609438</td>\n",
       "      <td>9.769956</td>\n",
       "    </tr>\n",
       "  </tbody>\n",
       "</table>\n",
       "</div>"
      ],
      "text/plain": [
       "   count  rank  log_rank  log_count\n",
       "0  73208     1  0.000000  11.201060\n",
       "1  23630     2  0.693147  10.070272\n",
       "2  21905     3  1.098612   9.994470\n",
       "3  21540     4  1.386294   9.977667\n",
       "4  17500     5  1.609438   9.769956"
      ]
     },
     "execution_count": 61,
     "metadata": {},
     "output_type": "execute_result"
    }
   ],
   "source": [
    "import numpy as np\n",
    "tokens_pdf[\"rank\"] = range(1, tokens_pdf.shape[0] + 1)\n",
    "tokens_pdf[\"log_rank\"] = np.log(tokens_pdf[\"rank\"])\n",
    "tokens_pdf[\"log_count\"] = np.log(tokens_pdf[\"count\"])\n",
    "tokens_pdf.head()"
   ]
  },
  {
   "cell_type": "code",
   "execution_count": 62,
   "metadata": {
    "collapsed": false
   },
   "outputs": [],
   "source": [
    "%matplotlib inline\n",
    "\n",
    "# \"conda install seaborn\" at a command prompt if you don't have it already\n",
    "import seaborn as sns"
   ]
  },
  {
   "cell_type": "code",
   "execution_count": 63,
   "metadata": {
    "collapsed": false
   },
   "outputs": [
    {
     "name": "stderr",
     "output_type": "stream",
     "text": [
      "/usr/local/lib/python3.5/dist-packages/matplotlib/__init__.py:898: UserWarning: axes.color_cycle is deprecated and replaced with axes.prop_cycle; please use the latter.\n",
      "  warnings.warn(self.msg_depr % (key, alt_key))\n"
     ]
    },
    {
     "data": {
      "text/plain": [
       "<seaborn.axisgrid.JointGrid at 0x7f60d3019d68>"
      ]
     },
     "execution_count": 63,
     "metadata": {},
     "output_type": "execute_result"
    },
    {
     "data": {
      "image/png": "[encoded data removed]",
      "text/plain": [
       "<matplotlib.figure.Figure at 0x7f60d3019dd8>"
      ]
     },
     "metadata": {},
     "output_type": "display_data"
    }
   ],
   "source": [
    "sns.jointplot(x=\"log_rank\", y=\"log_count\", data=tokens_pdf)"
   ]
  },
  {
   "cell_type": "markdown",
   "metadata": {},
   "source": [
    "# Word2Vec Synonyms\n",
    "\n",
    "What words are related?\n"
   ]
  },
  {
   "cell_type": "code",
   "execution_count": 28,
   "metadata": {
    "collapsed": true
   },
   "outputs": [],
   "source": [
    "from pyspark.ml.feature import Word2Vec"
   ]
  },
  {
   "cell_type": "code",
   "execution_count": 29,
   "metadata": {
    "collapsed": false
   },
   "outputs": [],
   "source": [
    "w2v = Word2Vec(vectorSize=100, \n",
    "               minCount=5, \n",
    "               numPartitions=4,\n",
    "               seed=20,\n",
    "               inputCol=\"tokens\",\n",
    "               outputCol=\"result\")"
   ]
  },
  {
   "cell_type": "code",
   "execution_count": 30,
   "metadata": {
    "collapsed": false
   },
   "outputs": [],
   "source": [
    "w2v_model = w2v.fit(comments_tokens)"
   ]
  },
  {
   "cell_type": "code",
   "execution_count": 31,
   "metadata": {
    "collapsed": false
   },
   "outputs": [
    {
     "data": {
      "text/plain": [
       "42229"
      ]
     },
     "execution_count": 31,
     "metadata": {},
     "output_type": "execute_result"
    }
   ],
   "source": [
    "w2v_vectors = w2v_model.getVectors()\n",
    "w2v_vectors.count()"
   ]
  },
  {
   "cell_type": "code",
   "execution_count": 32,
   "metadata": {
    "collapsed": false
   },
   "outputs": [
    {
     "data": {
      "text/html": [
       "<div>\n",
       "<table border=\"1\" class=\"dataframe\">\n",
       "  <thead>\n",
       "    <tr style=\"text-align: right;\">\n",
       "      <th></th>\n",
       "      <th>word</th>\n",
       "      <th>similarity</th>\n",
       "    </tr>\n",
       "  </thead>\n",
       "  <tbody>\n",
       "    <tr>\n",
       "      <th>0</th>\n",
       "      <td>science</td>\n",
       "      <td>0.645702</td>\n",
       "    </tr>\n",
       "    <tr>\n",
       "      <th>1</th>\n",
       "      <td>science,</td>\n",
       "      <td>0.579765</td>\n",
       "    </tr>\n",
       "    <tr>\n",
       "      <th>2</th>\n",
       "      <td>msc</td>\n",
       "      <td>0.570287</td>\n",
       "    </tr>\n",
       "    <tr>\n",
       "      <th>3</th>\n",
       "      <td>programmer)</td>\n",
       "      <td>0.552826</td>\n",
       "    </tr>\n",
       "    <tr>\n",
       "      <th>4</th>\n",
       "      <td>engineering</td>\n",
       "      <td>0.545989</td>\n",
       "    </tr>\n",
       "    <tr>\n",
       "      <th>5</th>\n",
       "      <td>80s.</td>\n",
       "      <td>0.516814</td>\n",
       "    </tr>\n",
       "    <tr>\n",
       "      <th>6</th>\n",
       "      <td>calculus</td>\n",
       "      <td>0.497151</td>\n",
       "    </tr>\n",
       "    <tr>\n",
       "      <th>7</th>\n",
       "      <td>science.</td>\n",
       "      <td>0.494038</td>\n",
       "    </tr>\n",
       "    <tr>\n",
       "      <th>8</th>\n",
       "      <td>math</td>\n",
       "      <td>0.493884</td>\n",
       "    </tr>\n",
       "    <tr>\n",
       "      <th>9</th>\n",
       "      <td>designing</td>\n",
       "      <td>0.486894</td>\n",
       "    </tr>\n",
       "  </tbody>\n",
       "</table>\n",
       "</div>"
      ],
      "text/plain": [
       "          word  similarity\n",
       "0      science    0.645702\n",
       "1     science,    0.579765\n",
       "2          msc    0.570287\n",
       "3  programmer)    0.552826\n",
       "4  engineering    0.545989\n",
       "5         80s.    0.516814\n",
       "6     calculus    0.497151\n",
       "7     science.    0.494038\n",
       "8         math    0.493884\n",
       "9    designing    0.486894"
      ]
     },
     "execution_count": 32,
     "metadata": {},
     "output_type": "execute_result"
    }
   ],
   "source": [
    "w2v_model.findSynonyms('computer', 10).toPandas()"
   ]
  },
  {
   "cell_type": "markdown",
   "metadata": {},
   "source": [
    "There's some clean up to be done still. \"science\", \"science,\", \"science?\", and \"science.\" really should all be the same token.\n",
    "\n",
    "But blindly removing punctuation may not be right for your dataset. What would have happened to \".net\", \"node.js\", and \"c#\" when we look for synonyms for \"java\" below? How can you clean up \"c++\" and \"c++,\"?"
   ]
  },
  {
   "cell_type": "code",
   "execution_count": 33,
   "metadata": {
    "collapsed": false
   },
   "outputs": [
    {
     "data": {
      "text/html": [
       "<div>\n",
       "<table border=\"1\" class=\"dataframe\">\n",
       "  <thead>\n",
       "    <tr style=\"text-align: right;\">\n",
       "      <th></th>\n",
       "      <th>word</th>\n",
       "      <th>similarity</th>\n",
       "    </tr>\n",
       "  </thead>\n",
       "  <tbody>\n",
       "    <tr>\n",
       "      <th>0</th>\n",
       "      <td>compiled</td>\n",
       "      <td>0.846565</td>\n",
       "    </tr>\n",
       "    <tr>\n",
       "      <th>1</th>\n",
       "      <td>c++.</td>\n",
       "      <td>0.819268</td>\n",
       "    </tr>\n",
       "    <tr>\n",
       "      <th>2</th>\n",
       "      <td>c++</td>\n",
       "      <td>0.817617</td>\n",
       "    </tr>\n",
       "    <tr>\n",
       "      <th>3</th>\n",
       "      <td>c#</td>\n",
       "      <td>0.813154</td>\n",
       "    </tr>\n",
       "    <tr>\n",
       "      <th>4</th>\n",
       "      <td>.net</td>\n",
       "      <td>0.808381</td>\n",
       "    </tr>\n",
       "    <tr>\n",
       "      <th>5</th>\n",
       "      <td>node.js</td>\n",
       "      <td>0.780349</td>\n",
       "    </tr>\n",
       "    <tr>\n",
       "      <th>6</th>\n",
       "      <td>java,</td>\n",
       "      <td>0.756420</td>\n",
       "    </tr>\n",
       "    <tr>\n",
       "      <th>7</th>\n",
       "      <td>python,</td>\n",
       "      <td>0.755731</td>\n",
       "    </tr>\n",
       "    <tr>\n",
       "      <th>8</th>\n",
       "      <td>jvm</td>\n",
       "      <td>0.755234</td>\n",
       "    </tr>\n",
       "    <tr>\n",
       "      <th>9</th>\n",
       "      <td>rails</td>\n",
       "      <td>0.748189</td>\n",
       "    </tr>\n",
       "  </tbody>\n",
       "</table>\n",
       "</div>"
      ],
      "text/plain": [
       "       word  similarity\n",
       "0  compiled    0.846565\n",
       "1      c++.    0.819268\n",
       "2       c++    0.817617\n",
       "3        c#    0.813154\n",
       "4      .net    0.808381\n",
       "5   node.js    0.780349\n",
       "6     java,    0.756420\n",
       "7   python,    0.755731\n",
       "8       jvm    0.755234\n",
       "9     rails    0.748189"
      ]
     },
     "execution_count": 33,
     "metadata": {},
     "output_type": "execute_result"
    }
   ],
   "source": [
    "w2v_model.findSynonyms('java', 10).toPandas()"
   ]
  },
  {
   "cell_type": "markdown",
   "metadata": {
    "collapsed": true
   },
   "source": [
    "Hacker News is a site that discusses startups and stories related to technology. Similar to \"java\" above, the synonyms you get back depend on your training data. Sometimes what you get is intuitive but sometimes you get interesting things like \"mouth\"."
   ]
  },
  {
   "cell_type": "code",
   "execution_count": 34,
   "metadata": {
    "collapsed": false
   },
   "outputs": [
    {
     "data": {
      "text/html": [
       "<div>\n",
       "<table border=\"1\" class=\"dataframe\">\n",
       "  <thead>\n",
       "    <tr style=\"text-align: right;\">\n",
       "      <th></th>\n",
       "      <th>word</th>\n",
       "      <th>similarity</th>\n",
       "    </tr>\n",
       "  </thead>\n",
       "  <tbody>\n",
       "    <tr>\n",
       "      <th>0</th>\n",
       "      <td>start-up</td>\n",
       "      <td>0.741585</td>\n",
       "    </tr>\n",
       "    <tr>\n",
       "      <th>1</th>\n",
       "      <td>novelty</td>\n",
       "      <td>0.728111</td>\n",
       "    </tr>\n",
       "    <tr>\n",
       "      <th>2</th>\n",
       "      <td>clique</td>\n",
       "      <td>0.726317</td>\n",
       "    </tr>\n",
       "    <tr>\n",
       "      <th>3</th>\n",
       "      <td>sf,</td>\n",
       "      <td>0.714907</td>\n",
       "    </tr>\n",
       "    <tr>\n",
       "      <th>4</th>\n",
       "      <td>high-paying</td>\n",
       "      <td>0.706608</td>\n",
       "    </tr>\n",
       "    <tr>\n",
       "      <th>5</th>\n",
       "      <td>clueless</td>\n",
       "      <td>0.706566</td>\n",
       "    </tr>\n",
       "    <tr>\n",
       "      <th>6</th>\n",
       "      <td>interview</td>\n",
       "      <td>0.706357</td>\n",
       "    </tr>\n",
       "    <tr>\n",
       "      <th>7</th>\n",
       "      <td>bunny</td>\n",
       "      <td>0.706212</td>\n",
       "    </tr>\n",
       "    <tr>\n",
       "      <th>8</th>\n",
       "      <td>career,</td>\n",
       "      <td>0.705742</td>\n",
       "    </tr>\n",
       "    <tr>\n",
       "      <th>9</th>\n",
       "      <td>dude</td>\n",
       "      <td>0.705565</td>\n",
       "    </tr>\n",
       "  </tbody>\n",
       "</table>\n",
       "</div>"
      ],
      "text/plain": [
       "          word  similarity\n",
       "0     start-up    0.741585\n",
       "1      novelty    0.728111\n",
       "2       clique    0.726317\n",
       "3          sf,    0.714907\n",
       "4  high-paying    0.706608\n",
       "5     clueless    0.706566\n",
       "6    interview    0.706357\n",
       "7        bunny    0.706212\n",
       "8      career,    0.705742\n",
       "9         dude    0.705565"
      ]
     },
     "execution_count": 34,
     "metadata": {},
     "output_type": "execute_result"
    }
   ],
   "source": [
    "w2v_model.findSynonyms('founder', 10).toPandas()"
   ]
  },
  {
   "cell_type": "markdown",
   "metadata": {},
   "source": [
    "So what comments have \"founder\" and \"bunny\" in them?"
   ]
  },
  {
   "cell_type": "code",
   "execution_count": 64,
   "metadata": {
    "collapsed": false
   },
   "outputs": [
    {
     "name": "stdout",
     "output_type": "stream",
     "text": [
      "+------------+\n",
      "|comment_text|\n",
      "+------------+\n",
      "+------------+\n",
      "\n"
     ]
    }
   ],
   "source": [
    "from pyspark.sql.functions import array_contains\n",
    "\n",
    "comments_tokens\\\n",
    "    .filter(array_contains(comments_tokens[\"tokens\"], \"founder\"))\\\n",
    "    .filter(array_contains(comments_tokens[\"tokens\"], \"bunny\"))\\\n",
    "    .select(comments_tokens[\"comment_text\"])\\\n",
    "    .show(3, truncate=False)"
   ]
  },
  {
   "cell_type": "markdown",
   "metadata": {},
   "source": [
    "There are none! This is an important lesson. Word2vec is not a measure of co-occurence like TF-IDF and other techniques. We've reduced the high-dimension co-occurence space down to only 100 dimensions and things that don't occurr together may project down to a lower space in a similar way ie have a similar vecor."
   ]
  }
 ],
 "metadata": {
  "kernelspec": {
   "display_name": "0.125 - PySpark Python3 Nano",
   "language": "python",
   "name": "pyspark3-nano"
  },
  "language_info": {
   "codemirror_mode": {
    "name": "ipython",
    "version": 3
   },
   "file_extension": ".py",
   "mimetype": "text/x-python",
   "name": "python",
   "nbconvert_exporter": "python",
   "pygments_lexer": "ipython3",
   "version": "3.5.2"
  }
 },
 "nbformat": 4,
 "nbformat_minor": 0
}
